{
 "cells": [
  {
   "cell_type": "code",
   "execution_count": 41,
   "id": "right-stephen",
   "metadata": {},
   "outputs": [],
   "source": [
    "import algos\n",
    "import lin_reg_algos\n",
    "import lin_reg_interactive\n",
    "import numpy as np\n",
    "import matplotlib.pyplot as plt\n",
    "from scipy.linalg import sqrtm"
   ]
  },
  {
   "cell_type": "code",
   "execution_count": 42,
   "id": "peaceful-acrylic",
   "metadata": {},
   "outputs": [],
   "source": [
    "from numpy.linalg import inv\n",
    "from numpy.linalg import matrix_power"
   ]
  },
  {
   "cell_type": "code",
   "execution_count": 43,
   "id": "eastern-record",
   "metadata": {},
   "outputs": [],
   "source": [
    "def generate_data_nonzero_mean(n, d, underlying_dist, mu):\n",
    "    \n",
    "    X = np.random.multivariate_normal(np.ones(d) * mu, np.eye(d), n)\n",
    "    X = np.array(X)\n",
    "\n",
    "    # Generates a label vector from underlying distribution plus some noise\n",
    "    y = []\n",
    "    for i in range(n):\n",
    "        y.append(np.dot(underlying_dist, X[i])[0] + np.random.normal(0, 1))\n",
    "    y = np.array(y)\n",
    "\n",
    "    return X, y"
   ]
  },
  {
   "cell_type": "markdown",
   "id": "lasting-metallic",
   "metadata": {},
   "source": [
    "Algorithm:\n",
    "\n",
    "1. Estimate $\\mu \\rightarrow \\hat{\\mu}$\n",
    "2. Subtract $\\hat{\\mu}$ from all $x$'s $/rightarrow X'$\n",
    "3. $\\tilde{X} = [X' | [1]^n]$\n",
    "4. Run CoinPress with $\\tilde{X} \\rightarrow \\tilde{\\beta}$\n",
    "5. Get $\\hat{\\beta} = \\tilde{\\beta}[0:-1]$"
   ]
  },
  {
   "cell_type": "code",
   "execution_count": 44,
   "id": "electoral-pearl",
   "metadata": {},
   "outputs": [],
   "source": [
    "def coinpress_mean(x, d, total_budget):\n",
    "    c = [0] * d\n",
    "    r = 100 * np.sqrt(d)\n",
    "    rho = [(1.0 / 4.0) * total_budget, (3.0 / 4.0) * total_budget]\n",
    "    return algos.multivariate_mean_iterative(x, c, r, 2, rho)"
   ]
  },
  {
   "cell_type": "code",
   "execution_count": 45,
   "id": "acknowledged-psychiatry",
   "metadata": {},
   "outputs": [
    {
     "name": "stdout",
     "output_type": "stream",
     "text": [
      "[ 1.78623659  3.3861951  -0.43195828  2.13875096  3.4107103   7.82214412\n",
      "  4.47176068  5.55604544  7.4080137   3.55517395]\n",
      "[ 1.78623659  3.3861951  -0.43195828  2.13875096  3.4107103   7.82214412\n",
      "  4.47176068  5.55604544  7.4080137 ]\n"
     ]
    }
   ],
   "source": [
    "n = 10\n",
    "d = 2\n",
    "underlying_dist = [[1,1]]\n",
    "mu = 2\n",
    "x, y = generate_data_nonzero_mean(n, d, underlying_dist, mu)\n",
    "x = x - mu\n",
    "x_tilde = np.c_[x,np.ones(n)]\n",
    "x_tilde\n",
    "\n",
    "print(y)\n",
    "print(y[:-1])"
   ]
  },
  {
   "cell_type": "code",
   "execution_count": 80,
   "id": "attached-controversy",
   "metadata": {},
   "outputs": [],
   "source": [
    "def nonzero_mean_algo_losses(n_values, d, iters, total_privacy_budget, loss_func, mu, beta_mean=0, beta_var=1.0):\n",
    "    \n",
    "    priv_algo_losses = []\n",
    "    nonpriv_algo_losses = []\n",
    "    nonpriv_losses = []\n",
    "    \n",
    "    for n in n_values:\n",
    "        priv_algo_losses_for_n = []\n",
    "        nonpriv_algo_losses_for_n = []\n",
    "        nonpriv_losses_for_n = []\n",
    "            \n",
    "        for i in range(iters):\n",
    "            c = [0] * (d + 1)\n",
    "            r = 100 * np.sqrt(d + 1)\n",
    "\n",
    "            underlying_dist = lin_reg_interactive.generate_normal_underlying_dist(d, beta_mean, beta_var)\n",
    "            \n",
    "            x, y = generate_data_nonzero_mean(n, d, underlying_dist, mu)\n",
    "\n",
    "            \"\"\" 1. Estimate Mu Hat\"\"\"\n",
    "            mu_hat = coinpress_mean(x, d, total_privacy_budget / 3)\n",
    "\n",
    "            \"\"\" 2. Subtract X by Mu Hat\"\"\"\n",
    "            uniform_norm_x = x - mu_hat\n",
    "            nonpriv_uniform_norm_x = x - mu\n",
    "            \n",
    "            \"\"\" 3. Add a column of 1's to X\"\"\"\n",
    "            uniform_norm_x = np.c_[uniform_norm_x, np.ones(n)]\n",
    "            nonpriv_uniform_norm_x = np.c_[nonpriv_uniform_norm_x, np.ones(n)]\n",
    "            \n",
    "            \"\"\" 4. Find Beta Tilde\"\"\"\n",
    "            priv_beta_tilde = lin_reg_algos.coinpress_linreg(uniform_norm_x, y, underlying_dist, c, r, 2 * total_privacy_budget / 3)\n",
    "            nonpriv_beta_tilde = lin_reg_interactive.linreg_closed_form_solution(nonpriv_uniform_norm_x, y)\n",
    "            \n",
    "            \"\"\" 5. Get all but last entry of Beta Tilde\"\"\"\n",
    "            priv_algo_beta_hat = priv_beta_tilde[:-1]\n",
    "            priv_algo_losses_for_n.append(loss_func(priv_algo_beta_hat, underlying_dist[0], d))\n",
    "            \n",
    "            nonpriv_algo_beta_hat = nonpriv_beta_tilde[:-1]\n",
    "            nonpriv_algo_losses_for_n.append(loss_func(nonpriv_algo_beta_hat, underlying_dist[0], d))\n",
    "            \n",
    "            \n",
    "            \"\"\" Closed form solution without using algorithm \"\"\"\n",
    "            nonpriv_beta_hat = lin_reg_interactive.linreg_closed_form_solution(x, y)\n",
    "            nonpriv_losses_for_n.append(loss_func(nonpriv_beta_hat, underlying_dist[0], d))\n",
    "             \n",
    "            \n",
    "        \"\"\" finds the mean loss for the current n for each of the following scenarios \"\"\"\n",
    "        \n",
    "        nonpriv_algo_losses_for_n = np.array(nonpriv_algo_losses_for_n)\n",
    "        nonpriv_algo_losses.append(np.mean(nonpriv_algo_losses_for_n))\n",
    "        \n",
    "        priv_algo_losses_for_n = np.array(priv_algo_losses_for_n)\n",
    "        priv_algo_losses.append(np.mean(priv_algo_losses_for_n))\n",
    "        \n",
    "        nonpriv_losses_for_n = np.array(nonpriv_losses_for_n)\n",
    "        nonpriv_losses.append(np.mean(nonpriv_losses_for_n))\n",
    "        \n",
    "    # TODO : add title, make y axis 0 -> 2, make sure label in top right corner / out of the way!\n",
    "#     plt.plot(n_values, nonpriv_algo_losses, 'y', label='Closed-Form Solution Using Algorithm')\n",
    "    plt.plot(n_values, priv_algo_losses, 'b', label='Private Solution')\n",
    "    plt.plot(n_values, nonpriv_losses, 'r', label='Closed-Form Solution')\n",
    "    plt.legend(loc=\"upper right\")\n",
    "    axes = plt.gca()\n",
    "    axes.set_ylabel('Population Loss')\n",
    "    axes.set_xlabel('n')\n",
    "    axes.set_title('Extended Algorithm: Non-Zero Mean d = 5')\n",
    "    axes.set_ylim([0.9,2])\n",
    "\n",
    "    return nonpriv_algo_losses, nonpriv_losses, priv_algo_losses"
   ]
  },
  {
   "cell_type": "code",
   "execution_count": 85,
   "id": "incoming-memorabilia",
   "metadata": {},
   "outputs": [
    {
     "data": {
      "text/plain": [
       "([1.009137673905785,\n",
       "  1.013138849585981,\n",
       "  0.9965510566933683,\n",
       "  1.0006282664329558,\n",
       "  1.0044269891697803,\n",
       "  0.9995932305022799,\n",
       "  1.0028681547201967,\n",
       "  1.002822268873744,\n",
       "  1.0039604651370508,\n",
       "  0.9942815283796282],\n",
       " [1.006440023435861,\n",
       "  1.0111781747050552,\n",
       "  1.0040150165161554,\n",
       "  1.0068729651193895,\n",
       "  1.016384829028736,\n",
       "  1.0024348579313958,\n",
       "  0.9978095314445429,\n",
       "  0.9976415671505185,\n",
       "  1.0088119091191932,\n",
       "  1.0027320223418954],\n",
       " [9.263984303564659,\n",
       "  3.723625988514068,\n",
       "  1.8283290625033013,\n",
       "  1.8083275828663097,\n",
       "  1.5634247842430014,\n",
       "  1.442592254219226,\n",
       "  1.3139282677702673,\n",
       "  1.3154900698600884,\n",
       "  1.2252860328447877,\n",
       "  1.2734070968316622])"
      ]
     },
     "execution_count": 85,
     "metadata": {},
     "output_type": "execute_result"
    },
    {
     "data": {
      "image/png": "[encoded data removed]",
      "text/plain": [
       "<Figure size 432x288 with 1 Axes>"
      ]
     },
     "metadata": {
      "needs_background": "light"
     },
     "output_type": "display_data"
    }
   ],
   "source": [
    "n_values = range(1000,3001,250)\n",
    "d = 5\n",
    "iters = 50\n",
    "mu = 10\n",
    "privacy_budget = 0.5\n",
    "nonzero_mean_algo_losses(n_values, d, iters, privacy_budget, lin_reg_interactive.loss, mu)"
   ]
  },
  {
   "cell_type": "code",
   "execution_count": null,
   "id": "synthetic-regulation",
   "metadata": {},
   "outputs": [],
   "source": [
    "\n",
    "\n"
   ]
  }
 ],
 "metadata": {
  "kernelspec": {
   "display_name": "Python 3",
   "language": "python",
   "name": "python3"
  },
  "language_info": {
   "codemirror_mode": {
    "name": "ipython",
    "version": 3
   },
   "file_extension": ".py",
   "mimetype": "text/x-python",
   "name": "python",
   "nbconvert_exporter": "python",
   "pygments_lexer": "ipython3",
   "version": "3.8.5"
  }
 },
 "nbformat": 4,
 "nbformat_minor": 5
}
