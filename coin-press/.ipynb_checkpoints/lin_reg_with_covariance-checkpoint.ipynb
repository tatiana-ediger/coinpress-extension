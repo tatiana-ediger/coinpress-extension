{
 "cells": [
  {
   "cell_type": "code",
   "execution_count": 1,
   "metadata": {},
   "outputs": [],
   "source": [
    "import sys\n",
    "import torch\n",
    "import algos\n",
    "import numpy as np\n",
    "import math\n",
    "import numpy.random as random\n",
    "import pandas as pd\n",
    "import matplotlib.pyplot as plt\n",
    "\n",
    "from sklearn import datasets, linear_model\n",
    "from sklearn.metrics import mean_squared_error, r2_score"
   ]
  },
  {
   "cell_type": "markdown",
   "metadata": {},
   "source": [
    "Closed form solution: beta = np.linalg.inv(X.T @ X) @ X.T @ y\n",
    "\n",
    "Consider the scenario where:\n",
    "- $x$ ~ $N(0, I_{dxd})$\n",
    "- $y|x$ ~ $N(\\langle x,\\beta \\rangle, \\sigma^2)$\n",
    "- We NOW DO NOT know $\\frac{1}{n}X^TX = I_{dxd}$\n",
    "- Need to estimate $ \\frac{1}{n}X^Ty \\approx E(x * \\langle x, \\beta \\rangle) $\n",
    "- Use CoinPress with input $z_i = x_iy_i$\n",
    "- AND need to estimate $ (\\frac{1}{n}X^TX)^{-1} \\approx (\\frac{1}{n}Cov(X))^{-1} $\n",
    "- Use CoinPress with input $x_i$\n",
    "\n",
    "\n",
    "But another thing we need to consider is that CoinPress assumes covariance matrix of z is $I_{dxd}$\n",
    "- Can we assume this? No...\n",
    "- Therefore we must normalize the $z_i$'s that we pass to CoinPress\n",
    "- We have calculated the diagonals of $cov(Z)$ are $\\beta_j^2  + ||\\beta||_2^2 + 1$ \n",
    "- Since as of right now, $\\beta$ ~ $N(0,1)$, $\\beta_j^2 = 1$, $||\\beta||_2^2 = d$, so each diagonal entry is approx $d+2$\n",
    "- Therefore, if the diagonals are >> the non-diagonals, we can assume that $\\frac{z}{\\sqrt{d}}$ ~ $N(C, I_{dxd})$\n"
   ]
  },
  {
   "cell_type": "code",
   "execution_count": 2,
   "metadata": {},
   "outputs": [],
   "source": [
    "def generate_data(n,d):\n",
    "    \n",
    "    \"\"\"Creates an nxd matrix X, a 1xd underlying_dist vector, nx1 y vector, and nxd z vector (where zi=xi*yi)\"\"\"\n",
    "    \n",
    "    # generate an n x d data matrix with N(0,1) entries- feature matrix\n",
    "    X = random.normal(0,1.0,(n,d))\n",
    "    X = np.array(X)\n",
    "    \n",
    "    # underlying distribution (beta hat)\n",
    "    underlying_dist = random.normal(0,1.0,(1,d))\n",
    "    underlying_dist = np.array(underlying_dist)\n",
    "    \n",
    "    # Generates a label vector from underlying distribution plus some noise\n",
    "    y = []\n",
    "    for i in range(n):\n",
    "        y.append(np.dot(underlying_dist, X[i])[0] + random.normal(0,1))\n",
    "    y = np.array(y)  \n",
    "    \n",
    "    # Generate z = xy\n",
    "    z = []\n",
    "    for i in range(n):\n",
    "        z.append(X[i] * y[i])\n",
    "    z = np.array(z)\n",
    "    \n",
    "    return X,y,z,underlying_dist"
   ]
  },
  {
   "cell_type": "code",
   "execution_count": 3,
   "metadata": {},
   "outputs": [],
   "source": [
    "def covariance_matrix(z):\n",
    "    z = z - underlying_dist\n",
    "    return (z.T@z)/n  # z.t@z grows w n"
   ]
  },
  {
   "cell_type": "code",
   "execution_count": 4,
   "metadata": {},
   "outputs": [],
   "source": [
    "def predicted_covariance():\n",
    "    predicted_cov = np.zeros((d,d))\n",
    "    for row in range(d):\n",
    "        for col in range(d):\n",
    "            if row == col:\n",
    "                predicted_cov[row][col] = underlying_dist[0][row]**2 + np.linalg.norm(underlying_dist[0]) ** 2 + 1 \n",
    "            else:\n",
    "                predicted_cov[row][col] = underlying_dist[0][row]*underlying_dist[0][col]\n",
    "                \n",
    "    return predicted_cov"
   ]
  },
  {
   "cell_type": "code",
   "execution_count": 5,
   "metadata": {},
   "outputs": [],
   "source": [
    "def coinpress_linreg_mean(z, c, r, d, beta_norm_sqr=None, t=2, total_budget=0.5):\n",
    "    if beta_norm_sqr is None: \n",
    "        beta_norm_sqr = d\n",
    "    z = z/np.sqrt(2*beta_norm_sqr+1)\n",
    "    rho = [(1.0/4.0)*total_budget, (3.0/4.0)*total_budget]\n",
    "    return algos.multivariate_mean_iterative(z, c, r, t, rho)*np.sqrt(2*beta_norm_sqr+1)"
   ]
  },
  {
   "cell_type": "code",
   "execution_count": 6,
   "metadata": {},
   "outputs": [],
   "source": [
    "def coinpress_linalg_covariance(x, d, t=2, total_budget=0.5):\n",
    "    '''need X and args={d, u, rho, t}'''\n",
    "    x = torch.FloatTensor(x)\n",
    "    class Args:\n",
    "        def __init__(self, n, d, u, rho, t):\n",
    "            self.n = n\n",
    "            self.d = d\n",
    "            self.u = u\n",
    "            self.rho = rho\n",
    "            self.t = t\n",
    "    n = len(x)\n",
    "    rho = [(1.0/4.0)*total_budget, (3.0/4.0)*total_budget]\n",
    "    u = 10 * np.sqrt(d)\n",
    "    args = Args(n, d, u, rho, t)\n",
    "    return algos.cov_est(x, args)"
   ]
  },
  {
   "cell_type": "code",
   "execution_count": 7,
   "metadata": {},
   "outputs": [
    {
     "data": {
      "text/plain": [
       "array([[17.799217  , -0.51495856, -1.7155758 , ...,  2.6212785 ,\n",
       "         3.3105955 , -0.61287767],\n",
       "       [-0.51494783, 16.817719  ,  1.1406784 , ...,  1.3984563 ,\n",
       "         1.3346977 ,  1.6014928 ],\n",
       "       [-1.71558   ,  1.1406593 , 25.939177  , ..., -5.564719  ,\n",
       "         1.3687905 ,  1.3666035 ],\n",
       "       ...,\n",
       "       [ 2.6212757 ,  1.3984506 , -5.5647244 , ..., 22.062933  ,\n",
       "        -0.99298406, -2.102111  ],\n",
       "       [ 3.3105953 ,  1.334703  ,  1.3687915 , ..., -0.99298006,\n",
       "        17.2648    , -0.8376521 ],\n",
       "       [-0.61287975,  1.6014972 ,  1.3666192 , ..., -2.1021135 ,\n",
       "        -0.8376528 , 17.34919   ]], dtype=float32)"
      ]
     },
     "execution_count": 7,
     "metadata": {},
     "output_type": "execute_result"
    }
   ],
   "source": [
    "x = random.normal(0,1.0,(2000,50))\n",
    "x = torch.FloatTensor(x)\n",
    "np.array(coinpress_linalg_covariance(x, 50))"
   ]
  },
  {
   "cell_type": "code",
   "execution_count": 8,
   "metadata": {},
   "outputs": [],
   "source": [
    "def error(z,c,r,d,iters):\n",
    "    errors = []\n",
    "    for i in range(iters):\n",
    "        error = np.linalg.norm(np.mean(z, axis=0) - coinpress_linreg_mean(z, c, r, d))\n",
    "        errors.append(error)\n",
    "        \n",
    "    return errors"
   ]
  },
  {
   "cell_type": "markdown",
   "metadata": {},
   "source": [
    "To analyze how well this algorithm works, we can find it's excess loss:\n",
    "$$\\mathbb{E}[(\\langle x, \\hat{\\beta} \\rangle - y)^2 - (\\langle x, \\beta \\rangle - y)^2]$$\n",
    "Because what we really care about is how well our estimate for $\\hat{\\beta}$ predicts the true values."
   ]
  },
  {
   "cell_type": "code",
   "execution_count": 9,
   "metadata": {},
   "outputs": [],
   "source": [
    "def excess_loss(beta_hat, beta, d):\n",
    "    \"\"\" generate n d-dimensional x values and y values to test excess loss of our predicted beta_hat vs. underlying distribution beta \"\"\"\n",
    "    \n",
    "    n = 1000\n",
    "    x = random.normal(0,1.0,(n,d))\n",
    "    x = np.array(x)\n",
    "    y = []\n",
    "    \n",
    "    for i in range(n):\n",
    "        y.append(np.dot(beta, x[i]) + random.normal(0,1))\n",
    "    y = np.array(y)  \n",
    "    \n",
    "    sum_losses = 0\n",
    "    n = len(x)\n",
    "    for i in range(n):\n",
    "        predicted_dist = (x[i] @ beta_hat - y[i])**2\n",
    "        actual_dist = (x[i] @ beta - y[i])**2 # if this = 1, it's essentially the same thing as n -> \\inf\n",
    "        loss = predicted_dist - actual_dist\n",
    "        sum_losses += loss\n",
    "    return sum_losses / n"
   ]
  },
  {
   "cell_type": "code",
   "execution_count": 10,
   "metadata": {},
   "outputs": [],
   "source": [
    "def nonprivate_linreg_mean(x, y):\n",
    "    \"\"\" find beta_hat from distribution \"\"\"\n",
    "    \n",
    "    # Create linear regression object\n",
    "    regr = linear_model.LinearRegression()\n",
    "\n",
    "    n = len(y)\n",
    "    # Train the model using the training sets\n",
    "#     regr.fit(x, y)\n",
    "#     return (x.T @ y) / n\n",
    "    return np.linalg.inv(x.T @ x) @ x.T @ y\n",
    "#     return regr.coef_"
   ]
  },
  {
   "cell_type": "markdown",
   "metadata": {},
   "source": [
    "Compare to: what if we did not add privacy - default solution to lin reg.\n",
    "- given data, what is solution, compare excess loss (use scipy linreg / closed form)\n",
    "- get a sense of what is a 'normal' excess risk\n",
    "- still wouldn't be zero, would help to have a sense of checking our baseline\n",
    "- As n goes to infinity, should have excess risk going to 0.\n",
    "- saw comparing it to CoinPress high total_budget doesn't make too significant a diff\n",
    "\n",
    "If we evaluate on new data, optimal soln is underlying_dist, expected loss of optimal soln 1\n",
    "- better to evaluate on a new dataset (generate x same way, y using underlying_dist) !!!\n",
    "- in expectation, actual loss is 1\n"
   ]
  },
  {
   "cell_type": "markdown",
   "metadata": {},
   "source": [
    "Messing around with other underlying distributions ($\\beta$)\n",
    "- Nothing about our assumptions relies on $\\beta$ ~ $N(0,1)$\n",
    "- Will first try out running experiment with $N(\\mu, \\sigma^2)$, varying $\\mu$ and $\\sigma$\n",
    "- Then, we will need to rescale each $z_i$ by $2 \\|\\beta\\|^{2}_2 + 1$\n",
    "- Moving forward, will need to estimate $\\|\\beta\\|^{2}_2$"
   ]
  },
  {
   "cell_type": "code",
   "execution_count": 11,
   "metadata": {},
   "outputs": [],
   "source": [
    "def generate_data_beta_normal(n,d,beta_mean,beta_var):\n",
    "    \n",
    "    \"\"\"Creates an nxd matrix X, a 1xd underlying_dist vector, nx1 y vector, and nxd z vector (where zi=xi*yi)\"\"\"\n",
    "    \n",
    "    # generate an n x d data matrix with N(0,1) entries- feature matrix\n",
    "    X = random.normal(0,1.0,(n,d))\n",
    "    X = np.array(X)\n",
    "    \n",
    "    # underlying distribution (beta hat)\n",
    "    underlying_dist = random.normal(beta_mean,beta_var,(1,d))\n",
    "    underlying_dist = np.array(underlying_dist)\n",
    "    \n",
    "    # Generates a label vector from underlying distribution plus some noise\n",
    "    y = []\n",
    "    for i in range(n):\n",
    "        y.append(np.dot(underlying_dist, X[i])[0] + random.normal(0,1))\n",
    "    y = np.array(y)  \n",
    "    \n",
    "    # Generate z = xy\n",
    "    z = []\n",
    "    for i in range(n):\n",
    "        z.append(X[i] * y[i])\n",
    "    z = np.array(z)\n",
    "    \n",
    "    return X,y,z,underlying_dist"
   ]
  },
  {
   "cell_type": "code",
   "execution_count": 18,
   "metadata": {},
   "outputs": [],
   "source": [
    "def run_experiment_beta_normal(d, beta_mean=0, beta_var=1, iters=30):\n",
    "    n_values = [2000, 4000, 6000, 8000, 10000]\n",
    "#     n_values = [4000, 6000, 8000, 10000]\n",
    "#     n_values = [100, 500, 1000, 5000]\n",
    "    c = [0]*d\n",
    "#     r = 10*np.sqrt(d)\n",
    "    r = 100*np.sqrt(d)\n",
    "    \n",
    "    # want to keep track and plot coinpress vs. non-private excess loss\n",
    "    losses = []\n",
    "    nonpriv_losses = []\n",
    "\n",
    "    for n in n_values:\n",
    "        \"\"\" for all n values, take the average of the loss after running the trial t times\"\"\"\n",
    "        curr_losses = []\n",
    "        curr_nonpriv_losses = []\n",
    "        for i in range(iters):\n",
    "            # generated data = nxd matrix x, nx1 vector y, nxd matrix z\n",
    "            # TODO: eventually change how to find beta_norm\n",
    "            x,y,z,underlying_dist = generate_data_beta_normal(n,d,beta_mean,beta_var)\n",
    "            beta_norm = np.linalg.norm(underlying_dist) ** 2\n",
    "            \n",
    "            # generate b_hat, and it's nonprivate counterpart by using coinpress and general linreg respectively\n",
    "            b_hat = coinpress_linreg_mean(z, c, r, d, beta_norm, total_budget=0.5)@np.linalg.inv(np.array(coinpress_linalg_covariance(x, d)))\n",
    "            nonpriv_b_hat = nonprivate_linreg_mean(x,y)\n",
    "\n",
    "            # find excess loss of b_hat and nonprivate b_hat\n",
    "            loss = excess_loss(b_hat, underlying_dist[0], d)\n",
    "            nonpriv_loss = excess_loss(nonpriv_b_hat, underlying_dist[0], d)\n",
    "            curr_nonpriv_losses.append(nonpriv_loss)\n",
    "            curr_losses.append(loss)\n",
    "        losses.append(np.mean(np.array(curr_losses)))\n",
    "        nonpriv_losses.append(np.mean(np.array(curr_nonpriv_losses)))\n",
    "\n",
    "    print(f\"losses: {losses}\")\n",
    "    print(f\"non-private losses: {nonpriv_losses}\")\n",
    "    plt.plot(n_values, losses, 'bo-')\n",
    "    plt.plot(n_values, nonpriv_losses, 'rx--')"
   ]
  },
  {
   "cell_type": "code",
   "execution_count": 19,
   "metadata": {},
   "outputs": [
    {
     "name": "stdout",
     "output_type": "stream",
     "text": [
      "losses: [2371.988953663152, 150.45711944080645, 37.60067152093098, 14.522134572243782, 3.507931304281846]\n",
      "non-private losses: [0.0027328127489514927, 0.0009133528656972295, 0.0007508147928494225, 0.00075400543903787, 0.0004980454863379629]\n"
     ]
    },
    {
     "data": {
      "image/png": "[encoded data removed]",
      "text/plain": [
       "<Figure size 432x288 with 1 Axes>"
      ]
     },
     "metadata": {
      "needs_background": "light"
     },
     "output_type": "display_data"
    }
   ],
   "source": [
    "run_experiment_beta_normal(5)"
   ]
  },
  {
   "cell_type": "code",
   "execution_count": 17,
   "metadata": {},
   "outputs": [
    {
     "name": "stdout",
     "output_type": "stream",
     "text": [
      "[[ 0.98111041 -0.0201929  -0.0093684   0.00868507  0.01337219]\n",
      " [-0.0201929   0.98750913  0.00924636 -0.03086653  0.01546189]\n",
      " [-0.0093684   0.00924636  1.01323661  0.02071331  0.00359675]\n",
      " [ 0.00868507 -0.03086653  0.02071331  1.05216    -0.01812421]\n",
      " [ 0.01337219  0.01546189  0.00359675 -0.01812421  1.04681388]]\n",
      "tensor([[ 0.9300, -0.0050,  0.0286,  0.0032, -0.0453],\n",
      "        [-0.0050,  0.9687, -0.0103, -0.0018, -0.0249],\n",
      "        [ 0.0286, -0.0103,  1.0607,  0.0449,  0.0512],\n",
      "        [ 0.0032, -0.0018,  0.0449,  1.0922, -0.0435],\n",
      "        [-0.0453, -0.0249,  0.0512, -0.0435,  0.9808]])\n"
     ]
    }
   ],
   "source": [
    "# generate data\n",
    "# then compare coinpress cov est to actual cov\n",
    "x,y,z,underlying_dist = generate_data_beta_normal(2000,5,0,1)\n",
    "print((1/2000)*x.T@x)\n",
    "print(coinpress_linalg_covariance(x,5))"
   ]
  },
  {
   "cell_type": "code",
   "execution_count": 14,
   "metadata": {},
   "outputs": [
    {
     "name": "stdout",
     "output_type": "stream",
     "text": [
      "0.6666666666666666\n"
     ]
    }
   ],
   "source": [
    "x = [True, False, True]\n",
    "x = np.array(x)\n",
    "print(np.mean(x))"
   ]
  },
  {
   "cell_type": "code",
   "execution_count": null,
   "metadata": {},
   "outputs": [],
   "source": []
  }
 ],
 "metadata": {
  "kernelspec": {
   "display_name": "Python 3",
   "language": "python",
   "name": "python3"
  },
  "language_info": {
   "codemirror_mode": {
    "name": "ipython",
    "version": 3
   },
   "file_extension": ".py",
   "mimetype": "text/x-python",
   "name": "python",
   "nbconvert_exporter": "python",
   "pygments_lexer": "ipython3",
   "version": "3.8.5"
  }
 },
 "nbformat": 4,
 "nbformat_minor": 4
}
