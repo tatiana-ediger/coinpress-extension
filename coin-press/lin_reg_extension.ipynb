{
 "cells": [
  {
   "cell_type": "code",
   "execution_count": 1,
   "id": "improving-snake",
   "metadata": {},
   "outputs": [],
   "source": [
    "import lin_reg_algos\n",
    "import lin_reg_interactive\n",
    "import numpy as np\n",
    "import matplotlib.pyplot as plt\n",
    "from scipy.linalg import sqrtm"
   ]
  },
  {
   "cell_type": "code",
   "execution_count": 2,
   "id": "distinct-california",
   "metadata": {},
   "outputs": [
    {
     "data": {
      "text/plain": [
       "array([[2., 0.],\n",
       "       [0., 2.]])"
      ]
     },
     "execution_count": 2,
     "metadata": {},
     "output_type": "execute_result"
    }
   ],
   "source": [
    "sqrtm([[4,0],[0,4]])"
   ]
  },
  {
   "cell_type": "code",
   "execution_count": 3,
   "id": "wound-paradise",
   "metadata": {},
   "outputs": [],
   "source": [
    "from numpy.linalg import inv\n",
    "from numpy.linalg import matrix_power"
   ]
  },
  {
   "cell_type": "markdown",
   "id": "legitimate-purple",
   "metadata": {},
   "source": [
    "Algorithm:\n",
    "\n",
    "1. Generate $X \\sim \\mathcal{N}(0, \\Sigma)$\n",
    "2. Estimate $\\hat{\\Sigma}$\n",
    "3. Rescale X by $\\hat{\\Sigma}^{-\\frac{1}{2}} \\rightarrow \\tilde{X}$\n",
    "4. Run CoinPress on $\\tilde{X}, y \\rightarrow \\tilde{\\beta}$ \n",
    "5. Resclae $\\tilde{\\beta}$ by $\\hat{\\Sigma}^{-\\frac{1}{2}} \\rightarrow \\hat{\\beta}$"
   ]
  },
  {
   "cell_type": "code",
   "execution_count": 4,
   "id": "collective-instrumentation",
   "metadata": {},
   "outputs": [],
   "source": [
    "def generate_data_nonidentity_cov(n, d, underlying_dist, sigma):\n",
    "    # sigma must be a dxd covariance matrix\n",
    "    assert(len(sigma) == d)\n",
    "    assert(len(sigma[0]) == d)\n",
    "    \n",
    "    X = np.random.multivariate_normal(np.zeros(d), sigma, n)\n",
    "    X = np.array(X)\n",
    "\n",
    "    # Generates a label vector from underlying distribution plus some noise\n",
    "    y = []\n",
    "    for i in range(n):\n",
    "        y.append(np.dot(underlying_dist, X[i])[0] + np.random.normal(0, 1))\n",
    "    y = np.array(y)\n",
    "\n",
    "    return X, y"
   ]
  },
  {
   "cell_type": "code",
   "execution_count": 5,
   "id": "spread-anaheim",
   "metadata": {},
   "outputs": [],
   "source": [
    "def generate_normal_underlying_dist(d, beta_mean, beta_var):\n",
    "    \"\"\" generates beta, <X,beta> = y\"\"\"\n",
    "    underlying_dist = np.random.normal(beta_mean, beta_var, (1, d))\n",
    "    return np.array(underlying_dist)"
   ]
  },
  {
   "cell_type": "code",
   "execution_count": 6,
   "id": "exposed-peoples",
   "metadata": {},
   "outputs": [],
   "source": [
    "data = generate_data_nonidentity_cov(10,2,generate_normal_underlying_dist(2,0,1),np.array([[10,0],[0,1]]))"
   ]
  },
  {
   "cell_type": "code",
   "execution_count": 126,
   "id": "romantic-equation",
   "metadata": {},
   "outputs": [],
   "source": [
    "def losses(n_values, d, iters, total_privacy_budget, loss_func, beta_mean=0, beta_var=1.0):\n",
    "    \n",
    "    priv_algo_losses = []\n",
    "    nonpriv_algo_losses = []\n",
    "    nonpriv_losses = []\n",
    "    \n",
    "    for n in n_values:\n",
    "        priv_algo_losses_for_n = []\n",
    "        nonpriv_algo_losses_for_n = []\n",
    "        nonpriv_losses_for_n = []\n",
    "            \n",
    "        for i in range(iters):\n",
    "            c = [0] * d\n",
    "            r = 100 * np.sqrt(d)\n",
    "\n",
    "            underlying_dist = generate_normal_underlying_dist(d, beta_mean, beta_var)\n",
    "            sigma = np.eye(d)\n",
    "            sigma[0][0] = 6\n",
    "            sigma[0][1] = 2\n",
    "            sigma[1][0] = 2\n",
    "            \n",
    "            x, y = generate_data_nonidentity_cov(n, d, underlying_dist, sigma)\n",
    "\n",
    "            \"\"\" 2. Estimate Sigma Hat\"\"\"\n",
    "            sigma_hat = lin_reg_algos.coinpress_linreg_covariance(x, d, total_budget = 2 * total_privacy_budget / 3)\n",
    "#             print(sigma_hat)\n",
    "#             print(sigma)\n",
    "\n",
    "            \"\"\" 3. Rescale X by Sigma Hat\"\"\"\n",
    "            uniform_norm_x = x @ inv(sqrtm(sigma))\n",
    "            \n",
    "            \"\"\" 4. Find Beta Tilde\"\"\"\n",
    "            priv_beta_tilde = lin_reg_algos.coinpress_linreg(uniform_norm_x, y, underlying_dist, c, r, total_privacy_budget / 3)\n",
    "            nonpriv_beta_tilde = lin_reg_interactive.linreg_closed_form_solution(uniform_norm_x, y)\n",
    "            \n",
    "            \"\"\" 5. Rescale Beta Tilde by Sigma Hat\"\"\"\n",
    "            priv_algo_beta_hat = inv(sqrtm(sigma_hat)) @ priv_beta_tilde\n",
    "            priv_algo_losses_for_n.append(loss_func(priv_algo_beta_hat, underlying_dist[0], d))\n",
    "            \n",
    "            nonpriv_algo_beta_hat = inv(sqrtm(sigma)) @ nonpriv_beta_tilde\n",
    "            nonpriv_algo_losses_for_n.append(loss_func(nonpriv_algo_beta_hat, underlying_dist[0], d))\n",
    "            \n",
    "#             priv_beta_hat = lin_reg_algos.coinpress_linreg(x,y)\n",
    "            \n",
    "            nonpriv_beta_hat = lin_reg_interactive.linreg_closed_form_solution(x, y)\n",
    "            nonpriv_losses_for_n.append(loss_func(nonpriv_beta_hat, underlying_dist[0], d))\n",
    "             \n",
    "            \n",
    "        \"\"\" finds the mean loss for the current n for each of the following scenarios \"\"\"\n",
    "        \n",
    "        nonpriv_algo_losses_for_n = np.array(nonpriv_algo_losses_for_n)\n",
    "        nonpriv_algo_losses.append(np.mean(nonpriv_algo_losses_for_n))\n",
    "        \n",
    "        priv_algo_losses_for_n = np.array(priv_algo_losses_for_n)\n",
    "        priv_algo_losses.append(np.mean(priv_algo_losses_for_n))\n",
    "        \n",
    "        nonpriv_losses_for_n = np.array(nonpriv_losses_for_n)\n",
    "        nonpriv_losses.append(np.mean(nonpriv_losses_for_n))\n",
    "        \n",
    "    # TODO : add title, make y axis 0 -> 2, make sure label in top right corner / out of the way!\n",
    "    plt.plot(n_values, nonpriv_algo_losses, 'r', label='Closed-Form Solution Using Algorithm')\n",
    "    plt.plot(n_values, priv_algo_losses, 'y', label='Private Solution Using Algorithm')\n",
    "    plt.plot(n_values, nonpriv_losses, 'b', label='Closed-Form Solution')\n",
    "    plt.legend(loc=\"upper right\")\n",
    "    axes = plt.gca()\n",
    "    axes.set_ylabel('Population Loss')\n",
    "    axes.set_xlabel('n')\n",
    "    axes.set_title('Extended Algorithm: Non-Identity Sigma d = 5')\n",
    "    axes.set_ylim([0.9,2])\n",
    "\n",
    "    return nonpriv_algo_losses, nonpriv_losses, priv_algo_losses"
   ]
  },
  {
   "cell_type": "code",
   "execution_count": 128,
   "id": "smart-beijing",
   "metadata": {},
   "outputs": [
    {
     "data": {
      "text/plain": [
       "([1.0054560114416968,\n",
       "  1.0058491722982117,\n",
       "  0.9941931308181113,\n",
       "  1.0201195755937762,\n",
       "  1.0045463284577238,\n",
       "  1.0011786494100212,\n",
       "  1.004434319722617,\n",
       "  1.0044414329919384],\n",
       " [1.0077054203584959,\n",
       "  1.016631327951829,\n",
       "  1.0091890876795702,\n",
       "  0.996456421829637,\n",
       "  0.9921931508133918,\n",
       "  0.998170721885171,\n",
       "  1.0028759153335765,\n",
       "  0.9939431080411105],\n",
       " [2.949036980486592,\n",
       "  1.7736292673110161,\n",
       "  1.3044995969908706,\n",
       "  1.1127536174889865,\n",
       "  1.1035393753539955,\n",
       "  1.077185954870994,\n",
       "  1.0504194039311818,\n",
       "  1.0679535336417996])"
      ]
     },
     "execution_count": 128,
     "metadata": {},
     "output_type": "execute_result"
    },
    {
     "data": {
      "image/png": "[encoded data removed]",
      "text/plain": [
       "<Figure size 432x288 with 1 Axes>"
      ]
     },
     "metadata": {
      "needs_background": "light"
     },
     "output_type": "display_data"
    }
   ],
   "source": [
    "losses(range(1000,3000,250), 5, 30, 0.5, lin_reg_interactive.loss)"
   ]
  },
  {
   "cell_type": "code",
   "execution_count": 49,
   "id": "middle-memorabilia",
   "metadata": {},
   "outputs": [
    {
     "data": {
      "text/plain": [
       "array([[4, 0],\n",
       "       [0, 4]])"
      ]
     },
     "execution_count": 49,
     "metadata": {},
     "output_type": "execute_result"
    }
   ],
   "source": [
    "[[4,0],[0,4]]\n",
    "np.array([[2,0],[0,2]])@np.array([[2,0],[0,2]])"
   ]
  },
  {
   "cell_type": "code",
   "execution_count": null,
   "id": "medieval-universe",
   "metadata": {},
   "outputs": [],
   "source": []
  }
 ],
 "metadata": {
  "kernelspec": {
   "display_name": "Python 3",
   "language": "python",
   "name": "python3"
  },
  "language_info": {
   "codemirror_mode": {
    "name": "ipython",
    "version": 3
   },
   "file_extension": ".py",
   "mimetype": "text/x-python",
   "name": "python",
   "nbconvert_exporter": "python",
   "pygments_lexer": "ipython3",
   "version": "3.8.5"
  }
 },
 "nbformat": 4,
 "nbformat_minor": 5
}
