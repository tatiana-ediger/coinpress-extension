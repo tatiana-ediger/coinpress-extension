{
 "cells": [
  {
   "cell_type": "code",
   "execution_count": 1,
   "metadata": {},
   "outputs": [],
   "source": [
    "import sys\n",
    "import torch\n",
    "import algos\n",
    "import numpy as np\n",
    "import math\n",
    "import numpy.random as random\n",
    "import pandas as pd\n",
    "import matplotlib.pyplot as plt\n",
    "\n",
    "from sklearn import datasets, linear_model\n",
    "from sklearn.metrics import mean_squared_error, r2_score"
   ]
  },
  {
   "cell_type": "markdown",
   "metadata": {},
   "source": [
    "Closed form solution: beta = np.linalg.inv(X.T @ X) @ X.T @ y\n",
    "\n",
    "Consider the scenario where:\n",
    "- $x$ ~ $N(0, I_{dxd})$\n",
    "- $y|x$ ~ $N(\\langle x,\\beta \\rangle, \\sigma^2)$\n",
    "- We NOW DO NOT know $\\frac{1}{n}X^TX = I_{dxd}$\n",
    "- Need to estimate $ \\frac{1}{n}X^Ty \\approx E(x * \\langle x, \\beta \\rangle) $\n",
    "- Use CoinPress with input $z_i = x_iy_i$\n",
    "- AND need to estimate $ (\\frac{1}{n}X^TX)^{-1} \\approx (\\frac{1}{n}Cov(X))^{-1} $\n",
    "- Use CoinPress with input $x_i$\n",
    "\n",
    "\n",
    "But another thing we need to consider is that CoinPress assumes covariance matrix of z is $I_{dxd}$\n",
    "- Can we assume this? No...\n",
    "- Therefore we must normalize the $z_i$'s that we pass to CoinPress\n",
    "- We have calculated the diagonals of $cov(Z)$ are $\\beta_j^2  + ||\\beta||_2^2 + 1$ \n",
    "- Since as of right now, $\\beta$ ~ $N(0,1)$, $\\beta_j^2 = 1$, $||\\beta||_2^2 = d$, so each diagonal entry is approx $d+2$\n",
    "- Therefore, if the diagonals are >> the non-diagonals, we can assume that $\\frac{z}{\\sqrt{d}}$ ~ $N(C, I_{dxd})$\n"
   ]
  },
  {
   "cell_type": "code",
   "execution_count": 2,
   "metadata": {},
   "outputs": [],
   "source": [
    "def generate_data(n,d):\n",
    "    \n",
    "    \"\"\"Creates an nxd matrix X, a 1xd underlying_dist vector, nx1 y vector, and nxd z vector (where zi=xi*yi)\"\"\"\n",
    "    \n",
    "    # generate an n x d data matrix with N(0,1) entries- feature matrix\n",
    "    X = random.normal(0,1.0,(n,d))\n",
    "    X = np.array(X)\n",
    "    \n",
    "    # underlying distribution (beta hat)\n",
    "    underlying_dist = random.normal(0,1.0,(1,d))\n",
    "    underlying_dist = np.array(underlying_dist)\n",
    "    \n",
    "    # Generates a label vector from underlying distribution plus some noise\n",
    "    y = []\n",
    "    for i in range(n):\n",
    "        y.append(np.dot(underlying_dist, X[i])[0] + random.normal(0,1))\n",
    "    y = np.array(y)  \n",
    "    \n",
    "    # Generate z = xy\n",
    "    z = []\n",
    "    for i in range(n):\n",
    "        z.append(X[i] * y[i])\n",
    "    z = np.array(z)\n",
    "    \n",
    "    return X,y,z,underlying_dist"
   ]
  },
  {
   "cell_type": "code",
   "execution_count": 3,
   "metadata": {},
   "outputs": [],
   "source": [
    "def covariance_matrix(z):\n",
    "    z = z - underlying_dist\n",
    "    return (z.T@z)/n  # z.t@z grows w n"
   ]
  },
  {
   "cell_type": "code",
   "execution_count": 4,
   "metadata": {},
   "outputs": [],
   "source": [
    "def predicted_covariance():\n",
    "    predicted_cov = np.zeros((d,d))\n",
    "    for row in range(d):\n",
    "        for col in range(d):\n",
    "            if row == col:\n",
    "                predicted_cov[row][col] = underlying_dist[0][row]**2 + np.linalg.norm(underlying_dist[0]) ** 2 + 1 \n",
    "            else:\n",
    "                predicted_cov[row][col] = underlying_dist[0][row]*underlying_dist[0][col]\n",
    "                \n",
    "    return predicted_cov"
   ]
  },
  {
   "cell_type": "code",
   "execution_count": 5,
   "metadata": {},
   "outputs": [],
   "source": [
    "def coinpress_linreg_mean(z, c, r, d, beta_norm_sqr=None, t=2, total_budget=0.5):\n",
    "    if beta_norm_sqr is None: \n",
    "        beta_norm_sqr = d\n",
    "    z = z/np.sqrt(2*beta_norm_sqr+1)\n",
    "    rho = [(1.0/4.0)*total_budget, (3.0/4.0)*total_budget]\n",
    "    return algos.multivariate_mean_iterative(z, c, r, t, rho)*np.sqrt(2*beta_norm_sqr+1)"
   ]
  },
  {
   "cell_type": "code",
   "execution_count": 6,
   "metadata": {},
   "outputs": [],
   "source": [
    "def coinpress_linalg_covariance(x, d, t=2, total_budget=0.5):\n",
    "    '''need X and args={d, u, rho, t}'''\n",
    "    x = torch.FloatTensor(x)\n",
    "    class Args:\n",
    "        def __init__(self, n, d, u, rho, t):\n",
    "            self.n = n\n",
    "            self.d = d\n",
    "            self.u = u\n",
    "            self.rho = rho\n",
    "            self.t = t\n",
    "    n = len(x)\n",
    "    rho = [(1.0/4.0)*total_budget, (3.0/4.0)*total_budget]\n",
    "    u = 10 * np.sqrt(d)\n",
    "    args = Args(n, d, u, rho, t)\n",
    "    return algos.cov_est(x, args)"
   ]
  },
  {
   "cell_type": "code",
   "execution_count": 7,
   "metadata": {},
   "outputs": [
    {
     "data": {
      "text/plain": [
       "array([[22.403831  ,  1.3659672 ,  2.0771546 , ..., -1.1708544 ,\n",
       "        -0.5282894 ,  1.9744301 ],\n",
       "       [ 1.365955  , 15.840675  , -1.3151397 , ...,  1.5317687 ,\n",
       "        -0.77592933,  3.6487315 ],\n",
       "       [ 2.0771556 , -1.3151358 , 23.579144  , ..., -2.1468685 ,\n",
       "         2.1946502 , -1.3288009 ],\n",
       "       ...,\n",
       "       [-1.1708528 ,  1.5317731 , -2.1468625 , ..., 26.349161  ,\n",
       "         0.5487872 , -1.9835037 ],\n",
       "       [-0.5282922 , -0.77592653,  2.1946492 , ...,  0.54877245,\n",
       "        25.765282  , -1.9798689 ],\n",
       "       [ 1.9744351 ,  3.648742  , -1.3287938 , ..., -1.9835054 ,\n",
       "        -1.9798774 , 21.833055  ]], dtype=float32)"
      ]
     },
     "execution_count": 7,
     "metadata": {},
     "output_type": "execute_result"
    }
   ],
   "source": [
    "x = random.normal(0,1.0,(2000,50))\n",
    "x = torch.FloatTensor(x)\n",
    "np.array(coinpress_linalg_covariance(x, 50))"
   ]
  },
  {
   "cell_type": "code",
   "execution_count": 8,
   "metadata": {},
   "outputs": [],
   "source": [
    "def error(z,c,r,d,iters):\n",
    "    errors = []\n",
    "    for i in range(iters):\n",
    "        error = np.linalg.norm(np.mean(z, axis=0) - coinpress_linreg_mean(z, c, r, d))\n",
    "        errors.append(error)\n",
    "        \n",
    "    return errors"
   ]
  },
  {
   "cell_type": "markdown",
   "metadata": {},
   "source": [
    "To analyze how well this algorithm works, we can find it's excess loss:\n",
    "$$\\mathbb{E}[(\\langle x, \\hat{\\beta} \\rangle - y)^2 - (\\langle x, \\beta \\rangle - y)^2]$$\n",
    "Because what we really care about is how well our estimate for $\\hat{\\beta}$ predicts the true values."
   ]
  },
  {
   "cell_type": "code",
   "execution_count": 9,
   "metadata": {},
   "outputs": [],
   "source": [
    "def excess_loss(beta_hat, beta, d):\n",
    "    \"\"\" generate n d-dimensional x values and y values to test excess loss of our predicted beta_hat vs. underlying distribution beta \"\"\"\n",
    "    \n",
    "    n = 1000\n",
    "    x = random.normal(0,1.0,(n,d))\n",
    "    x = np.array(x)\n",
    "    y = []\n",
    "    \n",
    "    for i in range(n):\n",
    "        y.append(np.dot(beta, x[i]) + random.normal(0,1))\n",
    "    y = np.array(y)  \n",
    "    \n",
    "    sum_losses = 0\n",
    "    n = len(x)\n",
    "    for i in range(n):\n",
    "        predicted_dist = (x[i] @ beta_hat - y[i])**2\n",
    "        actual_dist = (x[i] @ beta - y[i])**2 # if this = 1, it's essentially the same thing as n -> \\inf\n",
    "        loss = predicted_dist - actual_dist\n",
    "        sum_losses += loss\n",
    "    return sum_losses / n"
   ]
  },
  {
   "cell_type": "code",
   "execution_count": 10,
   "metadata": {},
   "outputs": [],
   "source": [
    "def nonprivate_linreg_mean(x, y):\n",
    "    \"\"\" find beta_hat from distribution \"\"\"\n",
    "    \n",
    "    # Create linear regression object\n",
    "    regr = linear_model.LinearRegression()\n",
    "\n",
    "    n = len(y)\n",
    "    # Train the model using the training sets\n",
    "#     regr.fit(x, y)\n",
    "#     return (x.T @ y) / n\n",
    "    return np.linalg.inv(x.T @ x) @ x.T @ y\n",
    "#     return regr.coef_"
   ]
  },
  {
   "cell_type": "markdown",
   "metadata": {},
   "source": [
    "Compare to: what if we did not add privacy - default solution to lin reg.\n",
    "- given data, what is solution, compare excess loss (use scipy linreg / closed form)\n",
    "- get a sense of what is a 'normal' excess risk\n",
    "- still wouldn't be zero, would help to have a sense of checking our baseline\n",
    "- As n goes to infinity, should have excess risk going to 0.\n",
    "- saw comparing it to CoinPress high total_budget doesn't make too significant a diff\n",
    "\n",
    "If we evaluate on new data, optimal soln is underlying_dist, expected loss of optimal soln 1\n",
    "- better to evaluate on a new dataset (generate x same way, y using underlying_dist) !!!\n",
    "- in expectation, actual loss is 1\n"
   ]
  },
  {
   "cell_type": "markdown",
   "metadata": {},
   "source": [
    "Messing around with other underlying distributions ($\\beta$)\n",
    "- Nothing about our assumptions relies on $\\beta$ ~ $N(0,1)$\n",
    "- Will first try out running experiment with $N(\\mu, \\sigma^2)$, varying $\\mu$ and $\\sigma$\n",
    "- Then, we will need to rescale each $z_i$ by $2 \\|\\beta\\|^{2}_2 + 1$\n",
    "- Moving forward, will need to estimate $\\|\\beta\\|^{2}_2$"
   ]
  },
  {
   "cell_type": "code",
   "execution_count": 11,
   "metadata": {},
   "outputs": [],
   "source": [
    "def generate_data_beta_normal(n,d,beta_mean,beta_var):\n",
    "    \n",
    "    \"\"\"Creates an nxd matrix X, a 1xd underlying_dist vector, nx1 y vector, and nxd z vector (where zi=xi*yi)\"\"\"\n",
    "    \n",
    "    # generate an n x d data matrix with N(0,1) entries- feature matrix\n",
    "    X = random.normal(0,1.0,(n,d))\n",
    "    X = np.array(X)\n",
    "    \n",
    "    # underlying distribution (beta hat)\n",
    "    underlying_dist = random.normal(beta_mean,beta_var,(1,d))\n",
    "    underlying_dist = np.array(underlying_dist)\n",
    "    \n",
    "    # Generates a label vector from underlying distribution plus some noise\n",
    "    y = []\n",
    "    for i in range(n):\n",
    "        y.append(np.dot(underlying_dist, X[i])[0] + random.normal(0,1))\n",
    "    y = np.array(y)  \n",
    "    \n",
    "    # Generate z = xy\n",
    "    z = []\n",
    "    for i in range(n):\n",
    "        z.append(X[i] * y[i])\n",
    "    z = np.array(z)\n",
    "    \n",
    "    return X,y,z,underlying_dist"
   ]
  },
  {
   "cell_type": "code",
   "execution_count": 12,
   "metadata": {},
   "outputs": [],
   "source": [
    "def run_experiment_beta_normal(d, beta_mean=0, beta_var=1, iters=30):\n",
    "    n_values = [2000, 4000, 6000, 8000, 10000]\n",
    "#     n_values = [4000, 6000, 8000, 10000]\n",
    "#     n_values = [100, 500, 1000, 5000]\n",
    "    c = [0]*d\n",
    "#     r = 10*np.sqrt(d)\n",
    "    r = 100*np.sqrt(d)\n",
    "    \n",
    "    # want to keep track and plot coinpress vs. non-private excess loss\n",
    "    losses = []\n",
    "    nonpriv_losses = []\n",
    "\n",
    "    for n in n_values:\n",
    "        \"\"\" for all n values, take the average of the loss after running the trial t times\"\"\"\n",
    "        curr_losses = []\n",
    "        curr_nonpriv_losses = []\n",
    "        for i in range(iters):\n",
    "            # generated data = nxd matrix x, nx1 vector y, nxd matrix z\n",
    "            # TODO: eventually change how to find beta_norm\n",
    "            x,y,z,underlying_dist = generate_data_beta_normal(n,d,beta_mean,beta_var)\n",
    "            beta_norm = np.linalg.norm(underlying_dist) ** 2\n",
    "            \n",
    "            # generate b_hat, and it's nonprivate counterpart by using coinpress and general linreg respectively\n",
    "            b_hat = coinpress_linreg_mean(z, c, r, d, beta_norm, total_budget=0.5)@np.linalg.inv(np.array(coinpress_linalg_covariance(x, d)))\n",
    "            nonpriv_b_hat = nonprivate_linreg_mean(x,y)\n",
    "\n",
    "            # find excess loss of b_hat and nonprivate b_hat\n",
    "            loss = excess_loss(b_hat, underlying_dist[0], d)\n",
    "            nonpriv_loss = excess_loss(nonpriv_b_hat, underlying_dist[0], d)\n",
    "            curr_nonpriv_losses.append(nonpriv_loss)\n",
    "            curr_losses.append(loss)\n",
    "        losses.append(np.mean(np.array(curr_losses)))\n",
    "        nonpriv_losses.append(np.mean(np.array(curr_nonpriv_losses)))\n",
    "\n",
    "    print(f\"losses: {losses}\")\n",
    "    print(f\"non-private losses: {nonpriv_losses}\")\n",
    "    plt.plot(n_values, losses, 'bo-')\n",
    "    plt.plot(n_values, nonpriv_losses, 'rx--')"
   ]
  },
  {
   "cell_type": "code",
   "execution_count": 20,
   "metadata": {},
   "outputs": [
    {
     "name": "stdout",
     "output_type": "stream",
     "text": [
      "losses: [0.03569198403180949, 0.00757813611005436, 0.004431184041310101, 0.0036087832754494427, 0.0029591119926617162]\n",
      "non-private losses: [0.0023515588971704045, 0.0012677412170793649, -0.00024490124995623405, 0.0011394386845674542, 0.00046195036966810204]\n"
     ]
    },
    {
     "data": {
      "image/png": "[encoded data removed]",
      "text/plain": [
       "<Figure size 432x288 with 1 Axes>"
      ]
     },
     "metadata": {
      "needs_background": "light"
     },
     "output_type": "display_data"
    }
   ],
   "source": [
    "run_experiment_beta_normal(5)"
   ]
  },
  {
   "cell_type": "code",
   "execution_count": 14,
   "metadata": {},
   "outputs": [
    {
     "name": "stdout",
     "output_type": "stream",
     "text": [
      "[[ 1.02289041e+00  2.40722155e-02  7.07324762e-03  1.02482289e-02\n",
      "   1.26108368e-02]\n",
      " [ 2.40722155e-02  1.02762628e+00  1.82737773e-02  6.52412206e-04\n",
      "  -3.32618144e-02]\n",
      " [ 7.07324762e-03  1.82737773e-02  1.04587825e+00  4.70536647e-02\n",
      "   2.73775465e-02]\n",
      " [ 1.02482289e-02  6.52412206e-04  4.70536647e-02  1.00593284e+00\n",
      "  -1.25188724e-02]\n",
      " [ 1.26108368e-02 -3.32618144e-02  2.73775465e-02 -1.25188724e-02\n",
      "   1.01027231e+00]]\n",
      "tensor([[ 9.9062e-01,  3.7000e-02,  1.2926e-04, -5.4188e-02,  2.8390e-02],\n",
      "        [ 3.6999e-02,  1.0243e+00, -9.6644e-03,  5.6649e-03, -1.4044e-02],\n",
      "        [ 1.2901e-04, -9.6640e-03,  1.0231e+00,  8.4457e-02, -3.2292e-02],\n",
      "        [-5.4188e-02,  5.6648e-03,  8.4457e-02,  1.0537e+00, -6.1951e-02],\n",
      "        [ 2.8390e-02, -1.4043e-02, -3.2292e-02, -6.1951e-02,  9.9548e-01]])\n"
     ]
    }
   ],
   "source": [
    "# generate data\n",
    "# then compare coinpress cov est to actual cov\n",
    "x,y,z,underlying_dist = generate_data_beta_normal(2000,5,0,1)\n",
    "print((1/2000)*x.T@x)\n",
    "print(coinpress_linalg_covariance(x,5))"
   ]
  },
  {
   "cell_type": "code",
   "execution_count": 15,
   "metadata": {},
   "outputs": [
    {
     "name": "stdout",
     "output_type": "stream",
     "text": [
      "0.6666666666666666\n"
     ]
    }
   ],
   "source": [
    "x = [True, False, True]\n",
    "x = np.array(x)\n",
    "print(np.mean(x))"
   ]
  },
  {
   "cell_type": "code",
   "execution_count": null,
   "metadata": {},
   "outputs": [],
   "source": []
  }
 ],
 "metadata": {
  "kernelspec": {
   "display_name": "Python 3",
   "language": "python",
   "name": "python3"
  },
  "language_info": {
   "codemirror_mode": {
    "name": "ipython",
    "version": 3
   },
   "file_extension": ".py",
   "mimetype": "text/x-python",
   "name": "python",
   "nbconvert_exporter": "python",
   "pygments_lexer": "ipython3",
   "version": "3.8.5"
  }
 },
 "nbformat": 4,
 "nbformat_minor": 4
}
