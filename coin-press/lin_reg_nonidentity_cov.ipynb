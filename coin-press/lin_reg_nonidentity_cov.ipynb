{
 "cells": [
  {
   "cell_type": "code",
   "execution_count": 1,
   "id": "electric-oregon",
   "metadata": {},
   "outputs": [],
   "source": [
    "import lin_reg_algos\n",
    "import lin_reg_interactive\n",
    "import numpy as np\n",
    "import matplotlib.pyplot as plt\n",
    "from scipy.linalg import sqrtm"
   ]
  },
  {
   "cell_type": "code",
   "execution_count": 2,
   "id": "artificial-controversy",
   "metadata": {},
   "outputs": [
    {
     "data": {
      "text/plain": [
       "array([[2., 0.],\n",
       "       [0., 2.]])"
      ]
     },
     "execution_count": 2,
     "metadata": {},
     "output_type": "execute_result"
    }
   ],
   "source": [
    "sqrtm([[4,0],[0,4]])"
   ]
  },
  {
   "cell_type": "code",
   "execution_count": 3,
   "id": "naval-logic",
   "metadata": {},
   "outputs": [],
   "source": [
    "from numpy.linalg import inv\n",
    "from numpy.linalg import matrix_power"
   ]
  },
  {
   "cell_type": "markdown",
   "id": "choice-success",
   "metadata": {},
   "source": [
    "Algorithm:\n",
    "\n",
    "1. Generate $X \\sim \\mathcal{N}(0, \\Sigma)$\n",
    "2. Estimate $\\hat{\\Sigma}$\n",
    "3. Rescale X by $\\hat{\\Sigma}^{-\\frac{1}{2}} \\rightarrow \\tilde{X}$\n",
    "4. Run CoinPress on $\\tilde{X}, y \\rightarrow \\tilde{\\beta}$ \n",
    "5. Resclae $\\tilde{\\beta}$ by $\\hat{\\Sigma}^{-\\frac{1}{2}} \\rightarrow \\hat{\\beta}$"
   ]
  },
  {
   "cell_type": "code",
   "execution_count": 4,
   "id": "secondary-honor",
   "metadata": {},
   "outputs": [],
   "source": [
    "def generate_data_nonidentity_cov(n, d, underlying_dist, sigma):\n",
    "    # sigma must be a dxd covariance matrix\n",
    "    assert(len(sigma) == d)\n",
    "    assert(len(sigma[0]) == d)\n",
    "    \n",
    "    X = np.random.multivariate_normal(np.zeros(d), sigma, n)\n",
    "    X = np.array(X)\n",
    "\n",
    "    # Generates a label vector from underlying distribution plus some noise\n",
    "    y = []\n",
    "    for i in range(n):\n",
    "        y.append(np.dot(underlying_dist, X[i])[0] + np.random.normal(0, 1))\n",
    "    y = np.array(y)\n",
    "\n",
    "    return X, y"
   ]
  },
  {
   "cell_type": "code",
   "execution_count": 7,
   "id": "demanding-spiritual",
   "metadata": {},
   "outputs": [],
   "source": [
    "data = generate_data_nonidentity_cov(10,2,lin_reg_interactive.generate_normal_underlying_dist(2,0,1),np.array([[10,0],[0,1]]))"
   ]
  },
  {
   "cell_type": "code",
   "execution_count": 62,
   "id": "blank-warren",
   "metadata": {},
   "outputs": [],
   "source": [
    "def losses(n_values, d, iters, total_privacy_budget, loss_func, beta_mean=0, beta_var=1.0):\n",
    "    \n",
    "    priv_algo_losses = []\n",
    "    nonpriv_algo_losses = []\n",
    "    priv_losses = []\n",
    "    nonpriv_losses = []\n",
    "    \n",
    "    for n in n_values:\n",
    "        priv_algo_losses_for_n = []\n",
    "        nonpriv_algo_losses_for_n = []\n",
    "        priv_losses_for_n = []\n",
    "        nonpriv_losses_for_n = []\n",
    "            \n",
    "        for i in range(iters):\n",
    "            c = [0] * d\n",
    "            r = 100 * np.sqrt(d)\n",
    "\n",
    "            underlying_dist = lin_reg_interactive.generate_normal_underlying_dist(d, beta_mean, beta_var)\n",
    "            sigma = np.eye(d) * 10\n",
    "#             sigma[0][0] = 6\n",
    "#             sigma[0][1] = 2\n",
    "#             sigma[1][0] = 2\n",
    "            \n",
    "            x, y = generate_data_nonidentity_cov(n, d, underlying_dist, sigma)\n",
    "\n",
    "            \"\"\" 2. Estimate Sigma Hat\"\"\"\n",
    "            sigma_hat = lin_reg_algos.coinpress_linreg_covariance(x, d, total_budget = 2 * total_privacy_budget / 3)\n",
    "#             print(sigma_hat)\n",
    "#             print(sigma)\n",
    "\n",
    "            \"\"\" 3. Rescale X by Sigma Hat\"\"\"\n",
    "            uniform_norm_x = x @ inv(sqrtm(sigma_hat))\n",
    "            nonpriv_uniform_norm_x = x @ inv(sqrtm(sigma))\n",
    "            \n",
    "            \"\"\" 4. Find Beta Tilde\"\"\"\n",
    "            priv_beta_tilde = lin_reg_algos.coinpress_linreg(uniform_norm_x, y, underlying_dist, c, r, total_privacy_budget / 3)\n",
    "            nonpriv_beta_tilde = lin_reg_interactive.linreg_closed_form_solution(nonpriv_uniform_norm_x, y)\n",
    "            \n",
    "            \"\"\" 5. Rescale Beta Tilde by Sigma Hat\"\"\"\n",
    "            priv_algo_beta_hat = inv(sqrtm(sigma_hat)) @ priv_beta_tilde\n",
    "            priv_algo_losses_for_n.append(loss_func(priv_algo_beta_hat, underlying_dist[0], d))\n",
    "            \n",
    "            nonpriv_algo_beta_hat = inv(sqrtm(sigma)) @ nonpriv_beta_tilde\n",
    "            nonpriv_algo_losses_for_n.append(loss_func(nonpriv_algo_beta_hat, underlying_dist[0], d))\n",
    "            \n",
    "            priv_beta_hat = lin_reg_algos.coinpress_linreg(x, y, underlying_dist, c, r, total_privacy_budget)\n",
    "            priv_losses_for_n.append(loss_func(priv_beta_hat, underlying_dist[0], d))\n",
    "            \n",
    "            nonpriv_beta_hat = lin_reg_interactive.linreg_closed_form_solution(x, y)\n",
    "            nonpriv_losses_for_n.append(loss_func(nonpriv_beta_hat, underlying_dist[0], d))\n",
    "             \n",
    "            \n",
    "        \"\"\" finds the mean loss for the current n for each of the following scenarios \"\"\"\n",
    "        \n",
    "        nonpriv_algo_losses_for_n = np.array(nonpriv_algo_losses_for_n)\n",
    "        nonpriv_algo_losses.append(np.mean(nonpriv_algo_losses_for_n))\n",
    "        \n",
    "        priv_algo_losses_for_n = np.array(priv_algo_losses_for_n)\n",
    "        priv_algo_losses.append(np.mean(priv_algo_losses_for_n))\n",
    "        \n",
    "        priv_losses_for_n = np.array(priv_losses_for_n)\n",
    "        priv_losses.append(np.mean(priv_losses_for_n))\n",
    "        \n",
    "        nonpriv_losses_for_n = np.array(nonpriv_losses_for_n)\n",
    "        nonpriv_losses.append(np.mean(nonpriv_losses_for_n))\n",
    "        \n",
    "    # TODO : add title, make y axis 0 -> 2, make sure label in top right corner / out of the way!\n",
    "#     plt.plot(n_values, nonpriv_algo_losses, 'r', label='Closed-Form Solution Using Algorithm')\n",
    "    plt.plot(n_values, priv_algo_losses, 'b', label='Private Solution')\n",
    "    plt.plot(n_values, nonpriv_losses, 'r', label='Closed-Form Solution')\n",
    "#     plt.plot(n_values, priv_losses, 'green', label='Private Solution without Extension')\n",
    "    plt.legend(loc=\"upper right\")\n",
    "    axes = plt.gca()\n",
    "    axes.set_ylabel('Population Loss')\n",
    "    axes.set_xlabel('n')\n",
    "    axes.set_title('Extended Algorithm: Non-Identity Sigma d = 5')\n",
    "    axes.set_ylim([0.9,2])\n",
    "\n",
    "    return nonpriv_algo_losses, nonpriv_losses, priv_algo_losses, priv_losses"
   ]
  },
  {
   "cell_type": "code",
   "execution_count": 63,
   "id": "thermal-tuition",
   "metadata": {},
   "outputs": [
    {
     "data": {
      "text/plain": [
       "([1.0044935793641452,\n",
       "  1.0043136217852267,\n",
       "  0.9964715186668801,\n",
       "  0.9982987309060565,\n",
       "  0.9999534939979964,\n",
       "  1.0062249352566341,\n",
       "  1.00925951256368,\n",
       "  1.0043179857922635,\n",
       "  1.0061576278233675,\n",
       "  1.013963906706976],\n",
       " [0.9837794539575251,\n",
       "  0.9920136930916421,\n",
       "  1.0164233538146503,\n",
       "  1.0079113163225364,\n",
       "  1.0069918422843203,\n",
       "  0.997429961731917,\n",
       "  0.9943997773461599,\n",
       "  1.003521205750248,\n",
       "  0.998794593419907,\n",
       "  0.9928550649753626],\n",
       " [1.0961449725573866,\n",
       "  1.0506374919076946,\n",
       "  1.0230010543418884,\n",
       "  1.0213170382811299,\n",
       "  1.0172389940887299,\n",
       "  1.0165420515067374,\n",
       "  1.0068724887379856,\n",
       "  1.0109947483252373,\n",
       "  1.0042652549209992,\n",
       "  0.9923116414134162],\n",
       " [140.984629728642,\n",
       "  116.75696480134619,\n",
       "  137.8424865341938,\n",
       "  162.23015254671026,\n",
       "  169.36284621848054,\n",
       "  132.43525222308546,\n",
       "  107.55947916486625,\n",
       "  147.35613246071293,\n",
       "  132.0568340105479,\n",
       "  139.73559528882188])"
      ]
     },
     "execution_count": 63,
     "metadata": {},
     "output_type": "execute_result"
    },
    {
     "data": {
      "image/png": "[encoded data removed]",
      "text/plain": [
       "<Figure size 432x288 with 1 Axes>"
      ]
     },
     "metadata": {
      "needs_background": "light"
     },
     "output_type": "display_data"
    }
   ],
   "source": [
    "losses(range(1000,3001,250), 10, 50, 0.5, lin_reg_interactive.loss)"
   ]
  },
  {
   "cell_type": "code",
   "execution_count": null,
   "id": "certain-invasion",
   "metadata": {},
   "outputs": [],
   "source": [
    "[[4,0],[0,4]]\n",
    "np.array([[2,0],[0,2]])@np.array([[2,0],[0,2]])"
   ]
  },
  {
   "cell_type": "code",
   "execution_count": null,
   "id": "appreciated-capitol",
   "metadata": {},
   "outputs": [],
   "source": []
  }
 ],
 "metadata": {
  "kernelspec": {
   "display_name": "Python 3",
   "language": "python",
   "name": "python3"
  },
  "language_info": {
   "codemirror_mode": {
    "name": "ipython",
    "version": 3
   },
   "file_extension": ".py",
   "mimetype": "text/x-python",
   "name": "python",
   "nbconvert_exporter": "python",
   "pygments_lexer": "ipython3",
   "version": "3.8.5"
  }
 },
 "nbformat": 4,
 "nbformat_minor": 5
}
