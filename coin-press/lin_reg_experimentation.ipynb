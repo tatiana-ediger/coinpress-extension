{
 "cells": [
  {
   "cell_type": "code",
   "execution_count": 1,
   "id": "sweet-throat",
   "metadata": {},
   "outputs": [],
   "source": [
    "import torch\n",
    "import algos\n",
    "import lin_reg_algos\n",
    "import matplotlib.pyplot as plt\n",
    "import numpy as np\n",
    "from scipy import stats"
   ]
  },
  {
   "cell_type": "code",
   "execution_count": 2,
   "id": "suspected-perspective",
   "metadata": {},
   "outputs": [],
   "source": [
    "def coinpress_linreg_with_cov(x, y, beta, c, r, total_budget):\n",
    "    \"\"\"\n",
    "    input:\n",
    "    output:\n",
    "    beta_hat = mean_est @ np.inv(cov_est)\n",
    "    \"\"\"\n",
    "    n = len(x)\n",
    "    d = len(x[0])\n",
    "    \n",
    "    total_budgets = np.array([0.1 * total_budget, 0.7 * total_budget, 0.2 * total_budget])\n",
    "    assert np.sum(total_budgets) == total_budget\n",
    "\n",
    "    z = []\n",
    "    for i in range(n):\n",
    "        z.append(x[i] * y[i])\n",
    "    z = np.array(z)\n",
    "\n",
    "    beta_norm_sqr = beta_l2_norm(y, total_budgets[0]) #np.linalg.norm(beta) ** 2#beta_l2_norm(y, d) #np.linalg.norm(beta) ** 2\n",
    "\n",
    "    mean_est = coinpress_linreg_mean(z, c, r, d, beta_norm_sqr, total_budgets[1])\n",
    "    cov_est = coinpress_linalg_covariance(x, d, 2, total_budgets[2])\n",
    "    beta_hat = mean_est @ np.linalg.inv(cov_est)\n",
    "    return beta_hat"
   ]
  },
  {
   "cell_type": "code",
   "execution_count": 3,
   "id": "otherwise-bumper",
   "metadata": {},
   "outputs": [],
   "source": [
    "def coinpress_linreg(x, y, beta, c, r, total_budget):\n",
    "    \"\"\"\n",
    "    input:\n",
    "    output:\n",
    "    beta_hat = mean_est\n",
    "    \"\"\"\n",
    "    n = len(x)\n",
    "    d = len(x[0])\n",
    "\n",
    "    z = []\n",
    "    for i in range(n):\n",
    "        z.append(x[i] * y[i])\n",
    "    z = np.array(z)\n",
    "\n",
    "    beta_norm_sqr =  beta_l2_norm(y, total_budget * 0.2) #np.linalg.norm(beta) ** 2 \n",
    "    mean_est = coinpress_linreg_mean(z, c, r, d, beta_norm_sqr, total_budget * 0.8)\n",
    "    \n",
    "    return mean_est"
   ]
  },
  {
   "cell_type": "code",
   "execution_count": 4,
   "id": "acting-dealer",
   "metadata": {},
   "outputs": [],
   "source": [
    "def beta_l2_norm(y, total_budget):\n",
    "    '''need y and args={d, u, rho, t}'''\n",
    "    d = 1\n",
    "    n = len(y)\n",
    "    t = 2 # number of times to run cov estimation one-step\n",
    "\n",
    "    torch_y = torch.FloatTensor(y.reshape(n,1))\n",
    "\n",
    "    class Args:\n",
    "        def __init__(self, n, d, u, rho, t):\n",
    "            self.n = n\n",
    "            self.d = d\n",
    "            self.u = u\n",
    "            self.rho = rho\n",
    "            self.t = t\n",
    "\n",
    "\n",
    "    rho = [(1.0 / 4.0) * total_budget, (3.0 / 4.0) * total_budget]\n",
    "    u = 100 * d\n",
    "    args = Args(n, d, u, [(1.0 / 4.0) * total_budget, (3.0 / 4.0) * total_budget], t)\n",
    "    cov_est = algos.cov_est(torch_y, args).numpy()\n",
    "    return cov_est[0][0] - 1"
   ]
  },
  {
   "cell_type": "code",
   "execution_count": 5,
   "id": "worst-present",
   "metadata": {},
   "outputs": [],
   "source": [
    "def no_cov_est_priv_linreg(x, y, beta, c, r, total_budget):\n",
    "    '''multiplies by (1/n)*np.linalg.inv(X.T@X) instead of inverse of covariance estimation'''\n",
    "    \n",
    "    n = len(x)\n",
    "    d = len(x[0])\n",
    "\n",
    "    z = []\n",
    "    for i in range(n):\n",
    "        z.append(x[i] * y[i])\n",
    "    z = np.array(z)\n",
    "\n",
    "    # TODO: private beta_norm_sqr !!\n",
    "    beta_norm_sqr = np.linalg.norm(beta)[0][0] ** 2\n",
    "\n",
    "    mean_est = coinpress_linreg_mean(z, c, r, d, beta_norm_sqr, total_budget)\n",
    "    beta_hat = mean_est @ np.linalg.inv((1/n)*x.T@x)\n",
    "    return beta_hat"
   ]
  },
  {
   "cell_type": "code",
   "execution_count": 6,
   "id": "discrete-there",
   "metadata": {},
   "outputs": [],
   "source": [
    "def coinpress_linalg_covariance(x, d, t=2, total_budget=0.5):\n",
    "    '''need X and args={d, u, rho, t}'''\n",
    "    x = torch.FloatTensor(x)\n",
    "    \n",
    "    class Args:\n",
    "        def __init__(self, n, d, u, rho, t):\n",
    "            self.n = n\n",
    "            self.d = d\n",
    "            self.u = u\n",
    "            self.rho = rho\n",
    "            self.t = t\n",
    "\n",
    "    n = len(x)\n",
    "    rho = [(1.0 / 4.0) * total_budget, (3.0 / 4.0) * total_budget]\n",
    "    # u = upper bound on largest eigenvalue on true covariance matrix\n",
    "    u = 10 * np.sqrt(d)\n",
    "    args = Args(n, d, u, rho, t)\n",
    "    return algos.cov_est(x, args)"
   ]
  },
  {
   "cell_type": "code",
   "execution_count": 22,
   "id": "intensive-viewer",
   "metadata": {},
   "outputs": [],
   "source": [
    "def coinpress_linreg_mean(z, c, r, d, beta_norm_sqr, total_budget=0.5):\n",
    "    z = z / np.sqrt(max(2 * beta_norm_sqr + 1, 0.1))\n",
    "    rho = [(1.0 / 4.0) * total_budget, (3.0 / 4.0) * total_budget]\n",
    "    return algos.multivariate_mean_iterative(z, c, r, 2, rho) * np.sqrt(max(0, 2 * beta_norm_sqr + 1))"
   ]
  },
  {
   "cell_type": "code",
   "execution_count": 130,
   "id": "earlier-contact",
   "metadata": {},
   "outputs": [],
   "source": [
    "def losses(n_values, d, iters, total_privacy_budget, loss_func, beta_mean=0, beta_var=1.0):\n",
    "    \"\"\"\n",
    "    using given loss_func, returns loss of the private, coinpress linear regression solution\n",
    "    and excess loss for the closed form solution of linear regression.\n",
    "    \"\"\"\n",
    "\n",
    "    nonpriv_losses = []\n",
    "    priv_losses = []\n",
    "    priv_losses2 = []\n",
    "\n",
    "    for n in n_values:\n",
    "        nonpriv_losses_for_n = []\n",
    "        priv_losses_for_n = []\n",
    "        priv_losses_for_n2 = []\n",
    "\n",
    "        for i in range(iters):\n",
    "            c = [0] * d\n",
    "            r = 100 * np.sqrt(d)\n",
    "\n",
    "            underlying_dist = generate_normal_underlying_dist(d, beta_mean, beta_var)\n",
    "            x, y = generate_data(n, d, underlying_dist)\n",
    "\n",
    "            \"\"\" in each iteration, running the estimation to find beta_hat for each of the following scenarios \"\"\"\n",
    "\n",
    "            nonpriv_beta_hat = linreg_closed_form_solution(x, y)\n",
    "            nonpriv_losses_for_n.append(loss_func(nonpriv_beta_hat, underlying_dist[0], d))\n",
    "            \n",
    "            priv_beta_hat = coinpress_linreg(x, y, underlying_dist, c, r, total_privacy_budget)\n",
    "            priv_losses_for_n.append(loss_func(priv_beta_hat, underlying_dist[0], d))\n",
    "            \n",
    "            priv_beta_hat2 = coinpress_linreg_with_cov(x, y, underlying_dist, c, r, total_privacy_budget)\n",
    "            priv_losses_for_n2.append(loss_func(priv_beta_hat2, underlying_dist[0], d))\n",
    "            \n",
    "            \n",
    "            \n",
    "        \"\"\" finds the mean loss for the current n for each of the following scenarios \"\"\"\n",
    "        \n",
    "        nonpriv_losses_for_n = np.array(nonpriv_losses_for_n)\n",
    "        nonpriv_losses.append(np.mean(nonpriv_losses_for_n))\n",
    "        \n",
    "        priv_losses_for_n = np.array(priv_losses_for_n)\n",
    "        priv_losses.append(np.mean(priv_losses_for_n))\n",
    "        \n",
    "        priv_losses_for_n2 = np.array(priv_losses_for_n2)\n",
    "        priv_losses2.append(np.mean(priv_losses_for_n2))\n",
    "        \n",
    "    # TODO : add title, make y axis 0 -> 2, make sure label in top right corner / out of the way!\n",
    "    plt.plot(n_values, nonpriv_losses, 'r', label='Closed-Form Solution')\n",
    "    plt.plot(n_values, priv_losses, 'b', label='Our Algorithm')\n",
    "    plt.plot(n_values, priv_losses2, 'y', label='Our Algorithm w/ Cov Est.')\n",
    "    plt.legend(loc=\"upper right\")\n",
    "    axes = plt.gca()\n",
    "    axes.set_ylabel('Population Loss')\n",
    "    axes.set_xlabel('n')\n",
    "    axes.set_title('Different Error Measurements: Population Loss')\n",
    "    axes.set_ylim([0.9,1.5])\n",
    "\n",
    "    return priv_losses, nonpriv_losses"
   ]
  },
  {
   "cell_type": "code",
   "execution_count": 132,
   "id": "serious-channel",
   "metadata": {},
   "outputs": [
    {
     "data": {
      "text/plain": [
       "([1.153125127899854,\n",
       "  1.0611632484934106,\n",
       "  1.042407170211669,\n",
       "  1.033239252558317,\n",
       "  1.0285218881378868,\n",
       "  1.0309241175552168,\n",
       "  1.0131145891333162,\n",
       "  1.0139339791897743,\n",
       "  1.0177137488832952],\n",
       " [1.0104934538052464,\n",
       "  1.0103861911106653,\n",
       "  0.9966191050932632,\n",
       "  0.988897767547097,\n",
       "  1.0026680529749046,\n",
       "  1.0029046499234315,\n",
       "  1.006163585914516,\n",
       "  0.9968212252540449,\n",
       "  1.002991018331132])"
      ]
     },
     "execution_count": 132,
     "metadata": {},
     "output_type": "execute_result"
    },
    {
     "data": {
      "image/png": "[encoded data removed]",
      "text/plain": [
       "<Figure size 432x288 with 1 Axes>"
      ]
     },
     "metadata": {
      "needs_background": "light"
     },
     "output_type": "display_data"
    }
   ],
   "source": [
    "# Dimension comparison\n",
    "\n",
    "n_values = range(500,2700,250)#[500,1000,1500,2000,4000]#,6000,8000,10000]\n",
    "# n_values = [2000,4000,6000,8000,10000]\n",
    "d = 5\n",
    "iters = 50\n",
    "total_privacy_budget=1\n",
    "\n",
    "losses(n_values, d, iters, total_privacy_budget, pop_loss)"
   ]
  },
  {
   "cell_type": "code",
   "execution_count": 51,
   "id": "british-reverse",
   "metadata": {},
   "outputs": [],
   "source": [
    "def generate_normal_underlying_dist(d, beta_mean, beta_var):\n",
    "    \"\"\" generates beta, <X,beta> = y\"\"\"\n",
    "    underlying_dist = np.random.normal(beta_mean, beta_var, (1, d))\n",
    "    return np.array(underlying_dist)"
   ]
  },
  {
   "cell_type": "code",
   "execution_count": 52,
   "id": "drawn-weapon",
   "metadata": {},
   "outputs": [],
   "source": [
    "def generate_data(n, d, underlying_dist):\n",
    "    \"\"\"Creates an nxd matrix X, a 1xd underlying_dist vector, nx1 y vector, and nxd z vector (where zi=xi*yi)\"\"\"\n",
    "\n",
    "    # generate an n x d data matrix with N(0,1) entries- feature matrix\n",
    "    X = np.random.normal(0, 1.0, (n, d))\n",
    "    X = np.array(X)\n",
    "\n",
    "    # Generates a label vector from underlying distribution plus some noise\n",
    "    y = []\n",
    "    for i in range(n):\n",
    "        y.append(np.dot(underlying_dist, X[i])[0] + np.random.normal(0, 1))\n",
    "    y = np.array(y)\n",
    "    \n",
    "    return X, y"
   ]
  },
  {
   "cell_type": "code",
   "execution_count": 35,
   "id": "rolled-corps",
   "metadata": {},
   "outputs": [],
   "source": [
    "def linreg_closed_form_solution(x, y):\n",
    "    return np.linalg.inv(x.T @ x) @ x.T @ y"
   ]
  },
  {
   "cell_type": "code",
   "execution_count": 36,
   "id": "vietnamese-upset",
   "metadata": {},
   "outputs": [],
   "source": [
    "def excess_loss(beta_hat, beta, d):\n",
    "    \"\"\"\n",
    "    Generate 1000 d-dimensional x values and y values to test excess loss\n",
    "    of our predicted beta_hat vs. underlying distribution beta\n",
    "    \"\"\"\n",
    "\n",
    "    n = 1000\n",
    "    x = np.random.normal(0, 1.0, (n, d))\n",
    "    x = np.array(x)\n",
    "    y = []\n",
    "\n",
    "    for i in range(n):\n",
    "        y.append(np.dot(beta, x[i]) + np.random.normal(0, 1.0))\n",
    "    y = np.array(y)\n",
    "\n",
    "    sum_losses = 0\n",
    "    for i in range(n):\n",
    "        predicted_dist = (x[i] @ beta_hat - y[i]) ** 2\n",
    "        actual_dist = (x[i] @ beta - y[i]) ** 2  # if this = 1, it's essentially the same thing as n -> \\inf\n",
    "        loss = predicted_dist - actual_dist\n",
    "        sum_losses += loss\n",
    "    return sum_losses / n"
   ]
  },
  {
   "cell_type": "code",
   "execution_count": 37,
   "id": "human-better",
   "metadata": {},
   "outputs": [],
   "source": [
    "def exact_pop_loss(beta_hat, beta, d):\n",
    "    return np.linalg.norm(beta-beta_hat,-5,5) ** 2 + 1"
   ]
  },
  {
   "cell_type": "code",
   "execution_count": 38,
   "id": "golden-exposure",
   "metadata": {},
   "outputs": [],
   "source": [
    "def pop_loss(beta_hat, beta, d):\n",
    "    \n",
    "    # make trimmed mean? throw out 5 most extreme values?\n",
    "    \n",
    "    n = 1000\n",
    "    \n",
    "    '''generate new x values'''\n",
    "    x = np.random.normal(0, 1.0, (n, d))\n",
    "    x = np.array(x)\n",
    "    y = []\n",
    "\n",
    "    '''generate new y values based on underlying distribution, beta'''\n",
    "    for i in range(n):\n",
    "        y.append(np.dot(beta, x[i]) + np.random.normal(0, 1.0))\n",
    "    y = np.array(y)\n",
    "    \n",
    "    '''find squared accuracy of prediction for each entry of x'''\n",
    "    def dist(xi,yi):\n",
    "        return (xi @ beta_hat - yi) ** 2 #np.clip((xi @ beta_hat - yi) ** 2, -5, 5) #\n",
    "    \n",
    "    '''return MSE'''\n",
    "    losses = list(map(dist, x, y))\n",
    "    return np.mean(np.array(losses))"
   ]
  },
  {
   "cell_type": "code",
   "execution_count": 39,
   "id": "divine-fusion",
   "metadata": {},
   "outputs": [],
   "source": [
    "def l2_error(beta_hat, beta, d):\n",
    "    return np.linalg.norm(np.clip(beta_hat-beta, -5, 5))"
   ]
  },
  {
   "cell_type": "code",
   "execution_count": 40,
   "id": "fresh-syndication",
   "metadata": {},
   "outputs": [
    {
     "data": {
      "text/plain": [
       "([1.3517020284695156,\n",
       "  1.1090521249996095,\n",
       "  1.0488877515124415,\n",
       "  1.0536462794341097,\n",
       "  1.0244327078625648,\n",
       "  1.027627283719368,\n",
       "  1.0204197315649803,\n",
       "  1.0214303908660767,\n",
       "  1.0139352436127573],\n",
       " [1.0116815324576556,\n",
       "  1.0108794088628927,\n",
       "  1.005158384981507,\n",
       "  1.007423062431653,\n",
       "  1.0033953214804463,\n",
       "  1.0132610254280003,\n",
       "  1.0069863608314813,\n",
       "  0.9987572403393287,\n",
       "  0.9939213135457733])"
      ]
     },
     "execution_count": 40,
     "metadata": {},
     "output_type": "execute_result"
    },
    {
     "data": {
      "image/png": "[encoded data removed]",
      "text/plain": [
       "<Figure size 432x288 with 1 Axes>"
      ]
     },
     "metadata": {
      "needs_background": "light"
     },
     "output_type": "display_data"
    }
   ],
   "source": [
    "n_values = range(500,2700,250)#[500,1000,1500,2000,4000]#,6000,8000,10000]\n",
    "d = 5\n",
    "iters = 50\n",
    "total_privacy_budget=0.5\n",
    "\n",
    "losses(n_values, d, iters, total_privacy_budget, pop_loss)"
   ]
  },
  {
   "cell_type": "code",
   "execution_count": null,
   "id": "confidential-coast",
   "metadata": {},
   "outputs": [],
   "source": []
  }
 ],
 "metadata": {
  "kernelspec": {
   "display_name": "Python 3",
   "language": "python",
   "name": "python3"
  },
  "language_info": {
   "codemirror_mode": {
    "name": "ipython",
    "version": 3
   },
   "file_extension": ".py",
   "mimetype": "text/x-python",
   "name": "python",
   "nbconvert_exporter": "python",
   "pygments_lexer": "ipython3",
   "version": "3.8.5"
  }
 },
 "nbformat": 4,
 "nbformat_minor": 5
}
