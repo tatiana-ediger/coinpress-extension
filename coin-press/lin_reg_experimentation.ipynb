{
 "cells": [
  {
   "cell_type": "code",
   "execution_count": 1,
   "id": "pleasant-locator",
   "metadata": {},
   "outputs": [],
   "source": [
    "import torch\n",
    "import algos\n",
    "import lin_reg_algos\n",
    "import matplotlib.pyplot as plt\n",
    "import numpy as np\n",
    "from scipy import stats"
   ]
  },
  {
   "cell_type": "code",
   "execution_count": 2,
   "id": "spanish-phase",
   "metadata": {},
   "outputs": [],
   "source": [
    "def coinpress_linreg(x, y, beta, c, r, total_budget):\n",
    "    \"\"\"\n",
    "    input:\n",
    "    output:\n",
    "    beta_hat = mean_est @ np.inv(cov_est)\n",
    "    \"\"\"\n",
    "    n = len(x)\n",
    "    d = len(x[0])\n",
    "\n",
    "    z = []\n",
    "    for i in range(n):\n",
    "        z.append(x[i] * y[i])\n",
    "    z = np.array(z)\n",
    "\n",
    "    # TODO: private beta_norm_sqr !!\n",
    "    beta_norm_sqr = beta_l2_norm(y, d) #np.linalg.norm(beta) ** 2\n",
    "\n",
    "    mean_est = coinpress_linreg_mean(z, c, r, d, beta_norm_sqr, total_budget)\n",
    "    cov_est = coinpress_linalg_covariance(x, d, 2, total_budget)\n",
    "    beta_hat = mean_est @ np.linalg.inv(cov_est)\n",
    "    return beta_hat"
   ]
  },
  {
   "cell_type": "code",
   "execution_count": 33,
   "id": "determined-northeast",
   "metadata": {},
   "outputs": [],
   "source": [
    "def beta_l2_norm(y, d, t=2, total_budget=0.1):\n",
    "    '''need y and args={d, u, rho, t}'''\n",
    "    y = torch.FloatTensor(y)\n",
    "\n",
    "    class Args:\n",
    "        def __init__(self, n, d, u, rho, t):\n",
    "            self.n = n\n",
    "            self.d = d\n",
    "            self.u = u\n",
    "            self.rho = rho\n",
    "            self.t = t\n",
    "\n",
    "    n = len(y)\n",
    "    rho = [(1.0 / 4.0) * total_budget, (3.0 / 4.0) * total_budget]\n",
    "    u = 100 * d\n",
    "    args = Args(n, d, u, rho, t)\n",
    "    return algos.cov_est(y, args) - 1"
   ]
  },
  {
   "cell_type": "code",
   "execution_count": 4,
   "id": "intense-sapphire",
   "metadata": {},
   "outputs": [],
   "source": [
    "def no_cov_est_priv_linreg(x, y, beta, c, r, total_budget):\n",
    "    '''multiplies by (1/n)*np.linalg.inv(X.T@X) instead of inverse of covariance estimation'''\n",
    "    \n",
    "    n = len(x)\n",
    "    d = len(x[0])\n",
    "\n",
    "    z = []\n",
    "    for i in range(n):\n",
    "        z.append(x[i] * y[i])\n",
    "    z = np.array(z)\n",
    "\n",
    "    # TODO: private beta_norm_sqr !!\n",
    "    beta_norm_sqr = np.linalg.norm(beta) ** 2\n",
    "\n",
    "    mean_est = coinpress_linreg_mean(z, c, r, d, beta_norm_sqr, total_budget)\n",
    "    beta_hat = mean_est @ np.linalg.inv((1/n)*x.T@x)\n",
    "    return beta_hat"
   ]
  },
  {
   "cell_type": "code",
   "execution_count": 5,
   "id": "several-humanitarian",
   "metadata": {},
   "outputs": [],
   "source": [
    "def coinpress_linalg_covariance(x, d, t=2, total_budget=0.5):\n",
    "    '''need X and args={d, u, rho, t}'''\n",
    "    x = torch.FloatTensor(x)\n",
    "    \n",
    "    class Args:\n",
    "        def __init__(self, n, d, u, rho, t):\n",
    "            self.n = n\n",
    "            self.d = d\n",
    "            self.u = u\n",
    "            self.rho = rho\n",
    "            self.t = t\n",
    "\n",
    "    n = len(x)\n",
    "    rho = [(1.0 / 4.0) * total_budget, (3.0 / 4.0) * total_budget]\n",
    "    # u = upper bound on largest eigenvalue on true covariance matrix\n",
    "    u = 10 * np.sqrt(d)\n",
    "    args = Args(n, d, u, rho, t)\n",
    "    return algos.cov_est(x, args)"
   ]
  },
  {
   "cell_type": "code",
   "execution_count": 6,
   "id": "rotary-translator",
   "metadata": {},
   "outputs": [],
   "source": [
    "def coinpress_linreg_mean(z, c, r, d, beta_norm_sqr, total_budget=0.5):\n",
    "    z = z / np.sqrt(2 * beta_norm_sqr + 1)\n",
    "    rho = [(1.0 / 4.0) * total_budget, (3.0 / 4.0) * total_budget]\n",
    "    return algos.multivariate_mean_iterative(z, c, r, 2, rho) * np.sqrt(2 * beta_norm_sqr + 1)"
   ]
  },
  {
   "cell_type": "code",
   "execution_count": 7,
   "id": "desirable-seating",
   "metadata": {},
   "outputs": [],
   "source": [
    "def losses(n_values, d, iters, total_privacy_budget, loss_func, beta_mean=0, beta_var=1.0):\n",
    "    \"\"\"\n",
    "    returns excess loss of the private, coinpress linear regression solution\n",
    "    and excess loss for the closed form solution of linear regression.\n",
    "\n",
    "    where excess loss = E[(<x,beta_hat> - y)**2 - (<x,beta> - y)**2]\n",
    "    \"\"\"\n",
    "\n",
    "    no_cov_est_priv_losses = []\n",
    "    nonpriv_losses = []\n",
    "    priv_losses = []\n",
    "    coinpress_nonpriv_losses = []\n",
    "\n",
    "    for n in n_values:\n",
    "        no_cov_est_priv_losses_for_n = []\n",
    "        nonpriv_losses_for_n = []\n",
    "        priv_losses_for_n = []\n",
    "        conpress_nonpriv_losses_for_n = []\n",
    "\n",
    "        for i in range(iters):\n",
    "            c = [0] * d\n",
    "            r = 100 * np.sqrt(d)\n",
    "\n",
    "            underlying_dist = generate_normal_underlying_dist(d, beta_mean, beta_var)\n",
    "            x, y, _ = generate_data(n, d, underlying_dist)\n",
    "\n",
    "            \"\"\" in each iteration, running the estimation to find beta_hat for each of the following scenarios \"\"\"\n",
    "            no_cov_est_priv_beta_hat = no_cov_est_priv_linreg(x, y, underlying_dist, c, r, total_privacy_budget)\n",
    "            no_cov_est_priv_losses_for_n.append(loss_func(no_cov_est_priv_beta_hat, underlying_dist[0], d))\n",
    "            \n",
    "            priv_beta_hat = lin_reg_algos.coinpress_linreg(x, y, underlying_dist, c, r, total_privacy_budget)\n",
    "            priv_losses_for_n.append(loss_func(priv_beta_hat, underlying_dist[0], d))\n",
    "\n",
    "            nonpriv_beta_hat = linreg_closed_form_solution(x, y)\n",
    "            nonpriv_losses_for_n.append(loss_func(nonpriv_beta_hat, underlying_dist[0], d))\n",
    "            \n",
    "            coinpress_nonpriv_beta_hat = lin_reg_algos.coinpress_linreg(x, y, underlying_dist, c, r, 1000)\n",
    "            conpress_nonpriv_losses_for_n.append(loss_func(coinpress_nonpriv_beta_hat, underlying_dist[0], d))\n",
    "            \n",
    "#             coinpress_r10000_beta_hat = lin_reg_algos.coinpress_linreg(x, y, underlying_dist, c, r*100, total_privacy_budget)\n",
    "#             coinpress_r10000_losses_for_n.append(loss_func())\n",
    "\n",
    "        \"\"\" finds the mean loss for the current n for each of the following scenarios \"\"\"\n",
    "        no_cov_est_losses_for_n = np.array(no_cov_est_priv_losses_for_n)\n",
    "        no_cov_est_priv_losses.append(np.mean(no_cov_est_priv_losses_for_n))\n",
    "        \n",
    "        priv_losses_for_n = np.array(priv_losses_for_n)\n",
    "        priv_losses.append(np.mean(priv_losses_for_n))\n",
    "        \n",
    "        nonpriv_losses_for_n = np.array(nonpriv_losses_for_n)\n",
    "        nonpriv_losses.append(np.mean(nonpriv_losses_for_n))\n",
    "        \n",
    "        conpress_nonpriv_losses_for_n = np.array(conpress_nonpriv_losses_for_n)\n",
    "        coinpress_nonpriv_losses.append(np.mean(conpress_nonpriv_losses_for_n))\n",
    "        \n",
    "    # TODO : add title, make y axis 0 -> 2, make sure label in top right corner / out of the way!\n",
    "    plt.plot(n_values, priv_losses, 'b', label='losses using algorithm')\n",
    "    plt.plot(n_values, nonpriv_losses, 'r', label='losses using closed form sol')\n",
    "    plt.plot(n_values, no_cov_est_priv_losses, 'y', label='losses using algo w/o cov est.')\n",
    "    plt.plot(n_values, coinpress_nonpriv_losses, 'g', label='losses using coinpress nonprivately')\n",
    "    plt.legend(loc=\"upper right\")\n",
    "    axes = plt.gca()\n",
    "    axes.set_ylim([0,5])\n",
    "\n",
    "    return priv_losses, nonpriv_losses"
   ]
  },
  {
   "cell_type": "code",
   "execution_count": 8,
   "id": "automated-supplier",
   "metadata": {},
   "outputs": [],
   "source": [
    "def generate_normal_underlying_dist(d, beta_mean, beta_var):\n",
    "    \"\"\" generates beta, <X,beta> = y\"\"\"\n",
    "    underlying_dist = np.random.normal(beta_mean, beta_var, (1, d))\n",
    "    return np.array(underlying_dist)"
   ]
  },
  {
   "cell_type": "code",
   "execution_count": 9,
   "id": "closed-dover",
   "metadata": {},
   "outputs": [],
   "source": [
    "def generate_data(n, d, underlying_dist):\n",
    "    \"\"\"Creates an nxd matrix X, a 1xd underlying_dist vector, nx1 y vector, and nxd z vector (where zi=xi*yi)\"\"\"\n",
    "\n",
    "    # generate an n x d data matrix with N(0,1) entries- feature matrix\n",
    "    X = np.random.normal(0, 1.0, (n, d))\n",
    "    X = np.array(X)\n",
    "\n",
    "    # Generates a label vector from underlying distribution plus some noise\n",
    "    y = []\n",
    "    for i in range(n):\n",
    "        y.append(np.dot(underlying_dist, X[i])[0] + np.random.normal(0, 1))\n",
    "    y = np.array(y)\n",
    "\n",
    "    # Generate z = xy\n",
    "    z = []\n",
    "    for i in range(n):\n",
    "        z.append(X[i] * y[i])\n",
    "    z = np.array(z)\n",
    "\n",
    "    return X, y, z"
   ]
  },
  {
   "cell_type": "code",
   "execution_count": 10,
   "id": "separate-degree",
   "metadata": {},
   "outputs": [],
   "source": [
    "def linreg_closed_form_solution(x, y):\n",
    "    return np.linalg.inv(x.T @ x) @ x.T @ y"
   ]
  },
  {
   "cell_type": "code",
   "execution_count": 11,
   "id": "nuclear-impact",
   "metadata": {},
   "outputs": [],
   "source": [
    "def excess_loss(beta_hat, beta, d):\n",
    "    \"\"\"\n",
    "    Generate 1000 d-dimensional x values and y values to test excess loss\n",
    "    of our predicted beta_hat vs. underlying distribution beta\n",
    "    \"\"\"\n",
    "\n",
    "    n = 1000\n",
    "    x = np.random.normal(0, 1.0, (n, d))\n",
    "    x = np.array(x)\n",
    "    y = []\n",
    "\n",
    "    for i in range(n):\n",
    "        y.append(np.dot(beta, x[i]) + np.random.normal(0, 1.0))\n",
    "    y = np.array(y)\n",
    "\n",
    "    sum_losses = 0\n",
    "    for i in range(n):\n",
    "        predicted_dist = (x[i] @ beta_hat - y[i]) ** 2\n",
    "        actual_dist = (x[i] @ beta - y[i]) ** 2  # if this = 1, it's essentially the same thing as n -> \\inf\n",
    "        loss = predicted_dist - actual_dist\n",
    "        sum_losses += loss\n",
    "    return sum_losses / n"
   ]
  },
  {
   "cell_type": "code",
   "execution_count": 25,
   "id": "environmental-sewing",
   "metadata": {},
   "outputs": [],
   "source": [
    "def pop_loss(beta_hat, beta, d):\n",
    "    \n",
    "    # make trimmed mean? throw out 5 most extreme values?\n",
    "    \n",
    "    n = 1000\n",
    "    \n",
    "    '''generate new x values'''\n",
    "    x = np.random.normal(0, 1.0, (n, d))\n",
    "    x = np.array(x)\n",
    "    y = []\n",
    "\n",
    "    '''generate new y values based on underlying distribution, beta'''\n",
    "    for i in range(n):\n",
    "        y.append(np.dot(beta, x[i]) + np.random.normal(0, 1.0))\n",
    "    y = np.array(y)\n",
    "    \n",
    "    '''find squared accuracy of prediction for each entry of x'''\n",
    "    def dist(xi,yi):\n",
    "        return np.clip((xi @ beta_hat - yi) ** 2, -5, 5)\n",
    "    \n",
    "    '''return MSE?'''\n",
    "    losses = list(map(dist, x, y))\n",
    "    # clip mean ? throw out really high values instead of trimming mean (throw out values bigger than 5)\n",
    "    return np.mean(np.array(losses))"
   ]
  },
  {
   "cell_type": "code",
   "execution_count": 26,
   "id": "regulated-settle",
   "metadata": {},
   "outputs": [
    {
     "data": {
      "text/plain": [
       "0.9276776055813232"
      ]
     },
     "execution_count": 26,
     "metadata": {},
     "output_type": "execute_result"
    }
   ],
   "source": [
    "\"\"\" WHY IS THIS sometimes less than 1?\"\"\"\n",
    "\n",
    "pop_loss([1,2,2],[1,2,2],3)"
   ]
  },
  {
   "cell_type": "code",
   "execution_count": 27,
   "id": "separate-cemetery",
   "metadata": {},
   "outputs": [],
   "source": [
    "def l1_error(beta_hat, beta, d):\n",
    "    return np.linalg.norm((beta_hat-beta), ord=1)"
   ]
  },
  {
   "cell_type": "code",
   "execution_count": 28,
   "id": "framed-favorite",
   "metadata": {},
   "outputs": [],
   "source": [
    "def l2_error(beta_hat, beta, d):\n",
    "    return np.linalg.norm(np.clip(beta_hat-beta, -5, 5))"
   ]
  },
  {
   "cell_type": "code",
   "execution_count": 29,
   "id": "stopped-forestry",
   "metadata": {},
   "outputs": [],
   "source": [
    "def l_inf_error(beta_hat, beta, d):\n",
    "    return np.linalg.norm((beta_hat-beta), ord=float('inf'))"
   ]
  },
  {
   "cell_type": "code",
   "execution_count": 30,
   "id": "polish-class",
   "metadata": {},
   "outputs": [
    {
     "data": {
      "text/plain": [
       "9.0"
      ]
     },
     "execution_count": 30,
     "metadata": {},
     "output_type": "execute_result"
    }
   ],
   "source": [
    "l_inf_error(np.array([5,5,10]), np.array([1,1,1]), 2)"
   ]
  },
  {
   "cell_type": "code",
   "execution_count": 31,
   "id": "exempt-humidity",
   "metadata": {},
   "outputs": [],
   "source": [
    "# n_values = list(range(100, 1500, 100))#[100,400,900,1000,1050,2000,2500,3000,3500,4000,6000]#,8000,10000]\n",
    "# d = 5\n",
    "# iters = 30\n",
    "# total_privacy_budget=0.5\n",
    "\n",
    "# losses(n_values, d, iters, total_privacy_budget, excess_loss)"
   ]
  },
  {
   "cell_type": "code",
   "execution_count": 34,
   "id": "rotary-supervisor",
   "metadata": {},
   "outputs": [
    {
     "data": {
      "text/plain": [
       "([2.9962740458243458,\n",
       "  1.9729484482135857,\n",
       "  1.365939964124298,\n",
       "  1.1430773802162595,\n",
       "  1.070821391219549,\n",
       "  1.028008994902393,\n",
       "  1.0021529465525345,\n",
       "  0.9924169552495542,\n",
       "  0.9906183469054614,\n",
       "  0.9781069210391032],\n",
       " [0.9612373014966408,\n",
       "  0.954353968963527,\n",
       "  0.9542213538484317,\n",
       "  0.9643918478574102,\n",
       "  0.9532150611467056,\n",
       "  0.97335259789802,\n",
       "  0.958084944684759,\n",
       "  0.9583489937375601,\n",
       "  0.9708684054144477,\n",
       "  0.9590103742744568])"
      ]
     },
     "execution_count": 34,
     "metadata": {},
     "output_type": "execute_result"
    },
    {
     "data": {
      "image/png": "[encoded data removed]",
      "text/plain": [
       "<Figure size 432x288 with 1 Axes>"
      ]
     },
     "metadata": {
      "needs_background": "light"
     },
     "output_type": "display_data"
    }
   ],
   "source": [
    "n_values = range(500,2500,200)#[500,1000,1500,2000,4000]#,6000,8000,10000]\n",
    "d = 5\n",
    "iters = 30\n",
    "total_privacy_budget=0.5\n",
    "\n",
    "losses(n_values, d, iters, total_privacy_budget, pop_loss)"
   ]
  },
  {
   "cell_type": "markdown",
   "id": "arctic-google",
   "metadata": {},
   "source": [
    "- dist between X.T@X and identity (Frobenius norm)\n",
    "- dist between coinpress_cov and identity (also F norm)"
   ]
  },
  {
   "cell_type": "code",
   "execution_count": 20,
   "id": "described-organizer",
   "metadata": {},
   "outputs": [
    {
     "name": "stdout",
     "output_type": "stream",
     "text": [
      "0.11137338082960183\n",
      "0.1626050815322836\n"
     ]
    }
   ],
   "source": [
    "d = 5\n",
    "n = 2000\n",
    "\n",
    "X = np.random.normal(0, 1.0, (n, d))\n",
    "X = np.array(X)\n",
    "\n",
    "errors = []\n",
    "cov_errors = []\n",
    "for i in range(100):\n",
    "    errors.append(np.linalg.norm(((1/n)*X.T@X - np.eye(d)), 'fro'))\n",
    "    cov_errors.append(np.linalg.norm((coinpress_linalg_covariance(X, d, t=2, total_budget=0.5) - (1/n)*X.T@X), 'fro'))\n",
    "    \n",
    "print(np.mean(np.array(errors)))\n",
    "print(np.mean(np.array(cov_errors)))"
   ]
  },
  {
   "cell_type": "markdown",
   "id": "silent-croatia",
   "metadata": {},
   "source": [
    "PLOTS\n",
    "- pop_loss, l2_error\n",
    "- clip values before taking average? or find median\n",
    "    - general principle when looking at large avg errors: are all errors abt the same or is there something skewing avg\n",
    "    \n",
    "OTHER\n",
    "- 'hyperparameter tuning' figure out privacy split\n",
    "- norm of beta"
   ]
  }
 ],
 "metadata": {
  "kernelspec": {
   "display_name": "Python 3",
   "language": "python",
   "name": "python3"
  },
  "language_info": {
   "codemirror_mode": {
    "name": "ipython",
    "version": 3
   },
   "file_extension": ".py",
   "mimetype": "text/x-python",
   "name": "python",
   "nbconvert_exporter": "python",
   "pygments_lexer": "ipython3",
   "version": "3.8.5"
  }
 },
 "nbformat": 4,
 "nbformat_minor": 5
}
