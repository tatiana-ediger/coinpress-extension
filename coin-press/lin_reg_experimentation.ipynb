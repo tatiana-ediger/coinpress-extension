{
 "cells": [
  {
   "cell_type": "code",
   "execution_count": 1,
   "id": "demonstrated-registrar",
   "metadata": {},
   "outputs": [],
   "source": [
    "import torch\n",
    "import algos\n",
    "import lin_reg_algos\n",
    "import matplotlib.pyplot as plt\n",
    "import numpy as np"
   ]
  },
  {
   "cell_type": "code",
   "execution_count": 77,
   "id": "applicable-theme",
   "metadata": {},
   "outputs": [],
   "source": [
    "def coinpress_linreg(x, y, beta, c, r, total_budget):\n",
    "    \"\"\"\n",
    "    input:\n",
    "    output:\n",
    "    beta_hat = mean_est @ np.inv(cov_est)\n",
    "    \"\"\"\n",
    "    n = len(x)\n",
    "    d = len(x[0])\n",
    "\n",
    "    z = []\n",
    "    for i in range(n):\n",
    "        z.append(x[i] * y[i])\n",
    "    z = np.array(z)\n",
    "\n",
    "    # TODO: private beta_norm_sqr !!\n",
    "    beta_norm_sqr = np.linalg.norm(beta) ** 2\n",
    "\n",
    "    mean_est = coinpress_linreg_mean(z, c, r, d, beta_norm_sqr, total_budget)\n",
    "    cov_est = coinpress_linalg_covariance(x, d, 2, total_budget)\n",
    "    beta_hat = mean_est @ np.linalg.inv(cov_est)\n",
    "    return beta_hat"
   ]
  },
  {
   "cell_type": "code",
   "execution_count": 78,
   "id": "cellular-elite",
   "metadata": {},
   "outputs": [],
   "source": [
    "def no_cov_est_priv_linreg(x, y, beta, c, r, total_budget):\n",
    "    '''multiplies by (1/n)*np.linalg.inv(X.T@X) instead of inverse of covariance estimation'''\n",
    "    \n",
    "    n = len(x)\n",
    "    d = len(x[0])\n",
    "\n",
    "    z = []\n",
    "    for i in range(n):\n",
    "        z.append(x[i] * y[i])\n",
    "    z = np.array(z)\n",
    "\n",
    "    # TODO: private beta_norm_sqr !!\n",
    "    beta_norm_sqr = np.linalg.norm(beta) ** 2\n",
    "\n",
    "    mean_est = coinpress_linreg_mean(z, c, r, d, beta_norm_sqr, total_budget)\n",
    "    beta_hat = mean_est @ np.linalg.inv((1/n)*x.T@x)\n",
    "    return beta_hat"
   ]
  },
  {
   "cell_type": "code",
   "execution_count": 79,
   "id": "female-headline",
   "metadata": {},
   "outputs": [],
   "source": [
    "def coinpress_linalg_covariance(x, d, t=2, total_budget=0.5):\n",
    "    '''need X and args={d, u, rho, t}'''\n",
    "    x = torch.FloatTensor(x)\n",
    "    \n",
    "    class Args:\n",
    "        def __init__(self, n, d, u, rho, t):\n",
    "            self.n = n\n",
    "            self.d = d\n",
    "            self.u = u\n",
    "            self.rho = rho\n",
    "            self.t = t\n",
    "\n",
    "    n = len(x)\n",
    "    rho = [(1.0 / 4.0) * total_budget, (3.0 / 4.0) * total_budget]\n",
    "    # u = upper bound on largest eigenvalue on true covariance matrix\n",
    "    u = 10 * np.sqrt(d)\n",
    "    args = Args(n, d, u, rho, t)\n",
    "    return algos.cov_est(x, args)"
   ]
  },
  {
   "cell_type": "code",
   "execution_count": 80,
   "id": "accompanied-morris",
   "metadata": {},
   "outputs": [],
   "source": [
    "def coinpress_linreg_mean(z, c, r, d, beta_norm_sqr, total_budget=0.5):\n",
    "    z = z / np.sqrt(2 * beta_norm_sqr + 1)\n",
    "    rho = [(1.0 / 4.0) * total_budget, (3.0 / 4.0) * total_budget]\n",
    "    return algos.multivariate_mean_iterative(z, c, r, 2, rho) * np.sqrt(2 * beta_norm_sqr + 1)"
   ]
  },
  {
   "cell_type": "code",
   "execution_count": 81,
   "id": "beginning-hunger",
   "metadata": {},
   "outputs": [],
   "source": [
    "def losses(n_values, d, iters, total_privacy_budget, beta_mean=0, beta_var=1.0):\n",
    "    \"\"\"\n",
    "    returns excess loss of the private, coinpress linear regression solution\n",
    "    and excess loss for the closed form solution of linear regression.\n",
    "\n",
    "    where excess loss = E[(<x,beta_hat> - y)**2 - (<x,beta> - y)**2]\n",
    "    \"\"\"\n",
    "\n",
    "    no_cov_est_priv_excess_losses = []\n",
    "    nonpriv_excess_losses = []\n",
    "    priv_excess_losses = []\n",
    "\n",
    "    for n in n_values:\n",
    "        no_cov_est_priv_losses_for_n = []\n",
    "        nonpriv_losses_for_n = []\n",
    "        priv_losses_for_n = []\n",
    "\n",
    "        for i in range(iters):\n",
    "            c = [0] * d\n",
    "            r = 100 * np.sqrt(d)\n",
    "\n",
    "            underlying_dist = generate_normal_underlying_dist(d, beta_mean, beta_var)\n",
    "            x, y, _ = generate_data(n, d, underlying_dist)\n",
    "\n",
    "            no_cov_est_priv_beta_hat = no_cov_est_priv_linreg(x, y, underlying_dist, c, r, total_privacy_budget)\n",
    "            no_cov_est_priv_losses_for_n.append(excess_loss(no_cov_est_priv_beta_hat, underlying_dist[0], d))\n",
    "            \n",
    "            priv_beta_hat = lin_reg_algos.coinpress_linreg(x, y, underlying_dist, c, r, total_privacy_budget)\n",
    "            priv_losses_for_n.append(excess_loss(priv_beta_hat, underlying_dist[0], d))\n",
    "\n",
    "            nonpriv_beta_hat = linreg_closed_form_solution(x, y)\n",
    "            nonpriv_losses_for_n.append(excess_loss(nonpriv_beta_hat, underlying_dist[0], d))\n",
    "\n",
    "        no_cov_est_losses_for_n = np.array(no_cov_est_priv_losses_for_n)\n",
    "        no_cov_est_priv_excess_losses.append(np.mean(no_cov_est_priv_losses_for_n))\n",
    "        \n",
    "        priv_losses_for_n = np.array(priv_losses_for_n)\n",
    "        priv_excess_losses.append(np.mean(priv_losses_for_n))\n",
    "        \n",
    "        nonpriv_losses_for_n = np.array(nonpriv_losses_for_n)\n",
    "        nonpriv_excess_losses.append(np.mean(nonpriv_losses_for_n))\n",
    "        \n",
    "    plt.plot(n_values, priv_excess_losses, 'b', label='excess losses using algorithm')\n",
    "    plt.plot(n_values, nonpriv_excess_losses, 'r', label='excess losses using closed form sol')\n",
    "    plt.plot(n_values, no_cov_est_priv_excess_losses, 'y', label='excess losses using algo w/o cov est.')\n",
    "    plt.legend(loc=\"upper right\")\n",
    "\n",
    "    return priv_excess_losses, nonpriv_excess_losses"
   ]
  },
  {
   "cell_type": "code",
   "execution_count": 82,
   "id": "closing-hunger",
   "metadata": {},
   "outputs": [],
   "source": [
    "def generate_normal_underlying_dist(d, beta_mean, beta_var):\n",
    "    \"\"\" generates beta, <X,beta> = y\"\"\"\n",
    "    underlying_dist = np.random.normal(beta_mean, beta_var, (1, d))\n",
    "    return np.array(underlying_dist)"
   ]
  },
  {
   "cell_type": "code",
   "execution_count": 83,
   "id": "touched-anatomy",
   "metadata": {},
   "outputs": [],
   "source": [
    "def generate_data(n, d, underlying_dist):\n",
    "    \"\"\"Creates an nxd matrix X, a 1xd underlying_dist vector, nx1 y vector, and nxd z vector (where zi=xi*yi)\"\"\"\n",
    "\n",
    "    # generate an n x d data matrix with N(0,1) entries- feature matrix\n",
    "    X = np.random.normal(0, 1.0, (n, d))\n",
    "    X = np.array(X)\n",
    "\n",
    "    # Generates a label vector from underlying distribution plus some noise\n",
    "    y = []\n",
    "    for i in range(n):\n",
    "        y.append(np.dot(underlying_dist, X[i])[0] + np.random.normal(0, 1))\n",
    "    y = np.array(y)\n",
    "\n",
    "    # Generate z = xy\n",
    "    z = []\n",
    "    for i in range(n):\n",
    "        z.append(X[i] * y[i])\n",
    "    z = np.array(z)\n",
    "\n",
    "    return X, y, z"
   ]
  },
  {
   "cell_type": "code",
   "execution_count": 84,
   "id": "daily-builder",
   "metadata": {},
   "outputs": [],
   "source": [
    "def linreg_closed_form_solution(x, y):\n",
    "    return np.linalg.inv(x.T @ x) @ x.T @ y"
   ]
  },
  {
   "cell_type": "code",
   "execution_count": 85,
   "id": "sacred-peoples",
   "metadata": {},
   "outputs": [],
   "source": [
    "def excess_loss(beta_hat, beta, d):\n",
    "    \"\"\"\n",
    "    Generate 1000 d-dimensional x values and y values to test excess loss\n",
    "    of our predicted beta_hat vs. underlying distribution beta\n",
    "    \"\"\"\n",
    "\n",
    "    n = 1000\n",
    "    x = np.random.normal(0, 1.0, (n, d))\n",
    "    x = np.array(x)\n",
    "    y = []\n",
    "\n",
    "    for i in range(n):\n",
    "        y.append(np.dot(beta, x[i]) + np.random.normal(0, 1.0))\n",
    "    y = np.array(y)\n",
    "\n",
    "    sum_losses = 0\n",
    "    for i in range(n):\n",
    "        predicted_dist = (x[i] @ beta_hat - y[i]) ** 2\n",
    "        actual_dist = (x[i] @ beta - y[i]) ** 2  # if this = 1, it's essentially the same thing as n -> \\inf\n",
    "        loss = predicted_dist - actual_dist\n",
    "        sum_losses += loss\n",
    "    return sum_losses / n"
   ]
  },
  {
   "cell_type": "code",
   "execution_count": 89,
   "id": "aggressive-yorkshire",
   "metadata": {},
   "outputs": [
    {
     "data": {
      "text/plain": [
       "([572.2075603704574,\n",
       "  501.13181017189004,\n",
       "  2060.845506874173,\n",
       "  1200.2778088636578,\n",
       "  306.56801997129094,\n",
       "  3219.0499443132094,\n",
       "  94.53980530339285,\n",
       "  5.285293884083142,\n",
       "  12.061090825773276,\n",
       "  0.5553036444284136,\n",
       "  0.26476434522676945,\n",
       "  0.1889626715093884,\n",
       "  0.13720630802844247,\n",
       "  0.10025815259783492],\n",
       " [0.051664849945508316,\n",
       "  0.024622194195890193,\n",
       "  0.017041071866892608,\n",
       "  0.012670119471532838,\n",
       "  0.008923179534696315,\n",
       "  0.009473686910949132,\n",
       "  0.007048388826439793,\n",
       "  0.006136624581586687,\n",
       "  0.0057657303558431815,\n",
       "  0.0055593920128448725,\n",
       "  0.00468887808089563,\n",
       "  0.00405198600138566,\n",
       "  0.004347037851663076,\n",
       "  0.003993924997134326])"
      ]
     },
     "execution_count": 89,
     "metadata": {},
     "output_type": "execute_result"
    },
    {
     "data": {
      "image/png": "[encoded data removed]",
      "text/plain": [
       "<Figure size 432x288 with 1 Axes>"
      ]
     },
     "metadata": {
      "needs_background": "light"
     },
     "output_type": "display_data"
    }
   ],
   "source": [
    "n_values = list(range(100, 1500, 100))#[100,400,900,1000,1050,2000,2500,3000,3500,4000,6000]#,8000,10000]\n",
    "d = 5\n",
    "iters = 200\n",
    "total_privacy_budget=0.5\n",
    "\n",
    "losses(n_values, d, iters, total_privacy_budget)"
   ]
  },
  {
   "cell_type": "markdown",
   "id": "freelance-hardwood",
   "metadata": {},
   "source": [
    "- dist between X.T@X and identity (Frobenius norm)\n",
    "- dist between coinpress_cov and identity (also F norm)"
   ]
  },
  {
   "cell_type": "code",
   "execution_count": 12,
   "id": "present-blogger",
   "metadata": {},
   "outputs": [
    {
     "name": "stdout",
     "output_type": "stream",
     "text": [
      "0.1367344015959184\n",
      "0.1531002930491572\n"
     ]
    }
   ],
   "source": [
    "d = 5\n",
    "n = 2000\n",
    "\n",
    "X = np.random.normal(0, 1.0, (n, d))\n",
    "X = np.array(X)\n",
    "\n",
    "errors = []\n",
    "cov_errors = []\n",
    "for i in range(100):\n",
    "    errors.append(np.linalg.norm(((1/n)*X.T@X - np.eye(d)), 'fro'))\n",
    "    cov_errors.append(np.linalg.norm((coinpress_linalg_covariance(X, d, t=2, total_budget=0.5) - (1/n)*X.T@X), 'fro'))\n",
    "    \n",
    "print(np.mean(np.array(errors)))\n",
    "print(np.mean(np.array(cov_errors)))"
   ]
  },
  {
   "cell_type": "markdown",
   "id": "selective-fusion",
   "metadata": {},
   "source": [
    "TODO:\n",
    "- add semi-private losses (cov lin reg with 1/n X.T@X) as another line on graph for sanity check abt what coinpress cov est. does DONE\n",
    "- when we generate actual data, try sampling x from something other than standard gaussian - extension. \n",
    "- experiments with d=2 (can visualize data, easier to experiment, validate assumptions, etc)\n",
    "- need to split total_privacy_budget between mean & covariance (conduct experiment?) / (start out even split?) / (bottleneck = mean est split, maybe allocate more here)\n",
    "- real in-practice things to think abt/ note - for what values of n does the algorithm start working well / bottlenecked?\n",
    "- diff measurements of error?"
   ]
  },
  {
   "cell_type": "code",
   "execution_count": null,
   "id": "electrical-orientation",
   "metadata": {},
   "outputs": [],
   "source": []
  }
 ],
 "metadata": {
  "kernelspec": {
   "display_name": "Python 3",
   "language": "python",
   "name": "python3"
  },
  "language_info": {
   "codemirror_mode": {
    "name": "ipython",
    "version": 3
   },
   "file_extension": ".py",
   "mimetype": "text/x-python",
   "name": "python",
   "nbconvert_exporter": "python",
   "pygments_lexer": "ipython3",
   "version": "3.8.5"
  }
 },
 "nbformat": 4,
 "nbformat_minor": 5
}
